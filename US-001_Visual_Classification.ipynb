{
 "cells": [
  {
   "cell_type": "markdown",
   "metadata": {},
   "source": [
    "# US-001: Visual Trash Classification\n",
    "## Epic 1: Artificial Intelligence & Vision\n",
    "\n",
    "**Objective:** Kuko identifies and classifies trash using 5MP camera + Gemini AI\n",
    "\n",
    "**Acceptance Criteria:**\n",
    "- ✅ Capture photo with 5MP camera\n",
    "- ✅ Gemini AI classifies into: toy, trash, clothing, other\n",
    "- ✅ Confidence >70% for each object\n",
    "- ✅ Returns approximate location (bbox)\n",
    "- ✅ Classification time <3 seconds\n",
    "- ✅ Works with indoor lighting (>200 lux)"
   ]
  },
  {
   "cell_type": "markdown",
   "metadata": {},
   "source": [
    "## 1. Install Dependencies\n",
    "Run this cell first to install required packages"
   ]
  },
  {
   "cell_type": "code",
   "execution_count": null,
   "metadata": {},
   "outputs": [],
   "source": [
    "!pip install google-generativeai opencv-python Pillow -q"
   ]
  },
  {
   "cell_type": "markdown",
   "metadata": {},
   "source": [
    "## 2. Import Libraries"
   ]
  },
  {
   "cell_type": "code",
   "execution_count": null,
   "metadata": {},
   "outputs": [],
   "source": "import cv2\nimport google.generativeai as genai\nimport time\nfrom PIL import Image\nimport json\nimport os\nfrom IPython.display import display, Image as IPImage\n\nprint(\"✓ Libraries imported successfully\")"
  },
  {
   "cell_type": "markdown",
   "metadata": {},
   "source": "## 3. Configure Gemini API\n\n**IMPORTANT:** Set your Gemini API key as an environment variable before proceeding."
  },
  {
   "cell_type": "code",
   "source": "# Set Gemini API Key as environment variable\nimport os\n\n# TODO: Replace 'YOUR_API_KEY_HERE' with your actual Gemini API key\nos.environ['GEMINI_API_KEY'] = 'YOUR_API_KEY_HERE'\n\nprint(\"✓ GEMINI_API_KEY environment variable set\")",
   "metadata": {},
   "execution_count": null,
   "outputs": []
  },
  {
   "cell_type": "code",
   "execution_count": null,
   "metadata": {},
   "outputs": [],
   "source": "# Configure Gemini API using environment variable\nGEMINI_API_KEY = os.getenv('GEMINI_API_KEY')\n\nif not GEMINI_API_KEY:\n    raise ValueError(\"GEMINI_API_KEY environment variable not set. Please set it before running.\")\n\ngenai.configure(api_key=GEMINI_API_KEY)\n\nprint(\"✓ Gemini API configured successfully\")\nprint(f\"✓ API Key: {GEMINI_API_KEY[:20]}...\")"
  },
  {
   "cell_type": "markdown",
   "metadata": {},
   "source": [
    "## 4. Initialize 5MP Camera"
   ]
  },
  {
   "cell_type": "code",
   "execution_count": null,
   "metadata": {},
   "outputs": [],
   "source": [
    "# Camera configuration for 5MP (2592x1944)\n",
    "CAMERA_WIDTH = 2592\n",
    "CAMERA_HEIGHT = 1944\n",
    "\n",
    "# Initialize camera\n",
    "camera = cv2.VideoCapture(0)\n",
    "camera.set(cv2.CAP_PROP_FRAME_WIDTH, CAMERA_WIDTH)\n",
    "camera.set(cv2.CAP_PROP_FRAME_HEIGHT, CAMERA_HEIGHT)\n",
    "\n",
    "# Verify actual resolution\n",
    "actual_width = int(camera.get(cv2.CAP_PROP_FRAME_WIDTH))\n",
    "actual_height = int(camera.get(cv2.CAP_PROP_FRAME_HEIGHT))\n",
    "\n",
    "print(f\"✓ Camera initialized: {actual_width}x{actual_height}\")\n",
    "print(f\"✓ Target resolution: 5MP (2592x1944)\")\n",
    "\n",
    "if actual_width == CAMERA_WIDTH and actual_height == CAMERA_HEIGHT:\n",
    "    print(\"✓ 5MP camera verified!\")\n",
    "else:\n",
    "    print(f\"⚠️  Camera resolution differs from 5MP target\")"
   ]
  },
  {
   "cell_type": "markdown",
   "metadata": {},
   "source": [
    "## 5. Capture Photo"
   ]
  },
  {
   "cell_type": "code",
   "execution_count": null,
   "metadata": {},
   "outputs": [],
   "source": [
    "# Capture photo\n",
    "ret, frame = camera.read()\n",
    "\n",
    "if not ret:\n",
    "    print(\"❌ Failed to capture image\")\n",
    "else:\n",
    "    # Save image\n",
    "    image_path = \"test_capture.jpg\"\n",
    "    cv2.imwrite(image_path, frame)\n",
    "    print(f\"✓ Photo captured successfully: {image_path}\")\n",
    "    print(f\"✓ Image size: {frame.shape[1]}x{frame.shape[0]}\")\n",
    "    \n",
    "    # Display captured image\n",
    "    display(IPImage(filename=image_path, width=400))"
   ]
  },
  {
   "cell_type": "markdown",
   "metadata": {},
   "source": [
    "## 6. Classify Objects with Gemini AI"
   ]
  },
  {
   "cell_type": "code",
   "execution_count": null,
   "metadata": {},
   "outputs": [],
   "source": "# Initialize Gemini model\nmodel = genai.GenerativeModel('gemini-2.5-flash-lite')\n\n# Load captured image\nimg = Image.open(image_path)\n\n# Classification prompt\nprompt = \"\"\"\nAnalyze this image and identify objects that are out of place (toys, trash, clothing, etc.).\n\nFor EACH object found, provide:\n1. category: Must be one of [toy, trash, clothing, other]\n2. description: Brief description of the object\n3. confidence: Confidence percentage (0-100)\n4. bbox: Approximate bounding box as [x_min, y_min, x_max, y_max] in pixels\n\nONLY include objects with confidence > 70%.\n\nReturn response in JSON format:\n{\n    \"objects\": [\n        {\n            \"category\": \"toy|trash|clothing|other\",\n            \"description\": \"object description\",\n            \"confidence\": 85,\n            \"bbox\": [x1, y1, x2, y2]\n        }\n    ]\n}\n\nIf no objects found with confidence >70%, return empty objects array.\n\"\"\"\n\n# Send to Gemini and measure time\nprint(\"🔍 Sending image to Gemini AI for classification...\\n\")\nstart_time = time.time()\n\nresponse = model.generate_content([prompt, img])\n\nprocessing_time = time.time() - start_time\n\nprint(f\"✓ Classification completed in {processing_time:.2f} seconds\")\nprint(f\"✓ Target: <3 seconds | Actual: {processing_time:.2f}s\")\n\nif processing_time < 3:\n    print(\"✓ Performance requirement MET\")\nelse:\n    print(\"⚠️  Performance requirement NOT MET\")"
  },
  {
   "cell_type": "markdown",
   "metadata": {},
   "source": [
    "## 7. Parse and Display Results"
   ]
  },
  {
   "cell_type": "code",
   "execution_count": null,
   "metadata": {},
   "outputs": [],
   "source": [
    "# Parse Gemini response\n",
    "try:\n",
    "    response_text = response.text.strip()\n",
    "    \n",
    "    # Extract JSON from markdown code blocks if present\n",
    "    if \"```json\" in response_text:\n",
    "        response_text = response_text.split(\"```json\")[1].split(\"```\")[0].strip()\n",
    "    elif \"```\" in response_text:\n",
    "        response_text = response_text.split(\"```\")[1].split(\"```\")[0].strip()\n",
    "    \n",
    "    result = json.loads(response_text)\n",
    "    \n",
    "    print(\"=\" * 70)\n",
    "    print(\"CLASSIFICATION RESULTS\")\n",
    "    print(\"=\" * 70)\n",
    "    print(f\"\\nObjects detected: {len(result.get('objects', []))}\")\n",
    "    \n",
    "    if result.get('objects'):\n",
    "        for i, obj in enumerate(result['objects'], 1):\n",
    "            print(f\"\\n📦 Object {i}:\")\n",
    "            print(f\"   Category:    {obj.get('category', 'unknown')}\")\n",
    "            print(f\"   Description: {obj.get('description', 'N/A')}\")\n",
    "            print(f\"   Confidence:  {obj.get('confidence', 0)}%\")\n",
    "            print(f\"   Location:    {obj.get('bbox', 'N/A')}\")\n",
    "    else:\n",
    "        print(\"\\nNo objects detected with confidence >70%\")\n",
    "    \n",
    "except json.JSONDecodeError as e:\n",
    "    print(\"⚠️  Could not parse JSON response\")\n",
    "    print(f\"\\nRaw Gemini Response:\\n{response.text}\")\n",
    "    result = {\"objects\": [], \"raw_response\": response.text}"
   ]
  },
  {
   "cell_type": "markdown",
   "metadata": {},
   "source": [
    "## 8. Acceptance Criteria Validation"
   ]
  },
  {
   "cell_type": "code",
   "execution_count": null,
   "metadata": {},
   "outputs": [],
   "source": [
    "print(\"=\" * 70)\n",
    "print(\"US-001 ACCEPTANCE CRITERIA VALIDATION\")\n",
    "print(\"=\" * 70)\n",
    "\n",
    "criteria = [\n",
    "    (\"5MP camera capture\", ret and frame.shape[0] > 0),\n",
    "    (\"Gemini AI classification\", response is not None),\n",
    "    (\"Categories (toy/trash/clothing/other)\", \n",
    "     all(obj.get('category') in ['toy', 'trash', 'clothing', 'other'] \n",
    "         for obj in result.get('objects', [])) if result.get('objects') else True),\n",
    "    (\"Confidence >70%\", \n",
    "     all(obj.get('confidence', 0) > 70 \n",
    "         for obj in result.get('objects', [])) if result.get('objects') else True),\n",
    "    (\"Bounding box location\", \n",
    "     all('bbox' in obj \n",
    "         for obj in result.get('objects', [])) if result.get('objects') else True),\n",
    "    (\"Processing time <3s\", processing_time < 3),\n",
    "]\n",
    "\n",
    "all_passed = True\n",
    "for criterion, passed in criteria:\n",
    "    status = \"✓\" if passed else \"✗\"\n",
    "    print(f\"  {status} {criterion}\")\n",
    "    if not passed:\n",
    "        all_passed = False\n",
    "\n",
    "print(\"\\n\" + \"=\" * 70)\n",
    "if all_passed:\n",
    "    print(\"🎉 ALL ACCEPTANCE CRITERIA PASSED!\")\n",
    "else:\n",
    "    print(\"⚠️  Some criteria need attention\")\n",
    "print(\"=\" * 70)"
   ]
  },
  {
   "cell_type": "markdown",
   "metadata": {},
   "source": [
    "## 9. Cleanup"
   ]
  },
  {
   "cell_type": "code",
   "execution_count": null,
   "metadata": {},
   "outputs": [],
   "source": [
    "# Release camera\n",
    "camera.release()\n",
    "print(\"✓ Camera released\")"
   ]
  }
 ],
 "metadata": {
  "kernelspec": {
   "display_name": "Python 3",
   "language": "python",
   "name": "python3"
  },
  "language_info": {
   "codemirror_mode": {
    "name": "ipython",
    "version": 3
   },
   "file_extension": ".py",
   "mimetype": "text/x-python",
   "name": "python",
   "nbconvert_exporter": "python",
   "pygments_lexer": "ipython3",
   "version": "3.11.7"
  }
 },
 "nbformat": 4,
 "nbformat_minor": 4
}