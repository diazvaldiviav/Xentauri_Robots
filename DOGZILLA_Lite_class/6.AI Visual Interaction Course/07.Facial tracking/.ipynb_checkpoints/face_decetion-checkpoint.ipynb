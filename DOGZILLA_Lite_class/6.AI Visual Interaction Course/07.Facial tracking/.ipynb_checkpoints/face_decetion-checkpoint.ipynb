{
 "cells": [
  {
   "cell_type": "code",
   "execution_count": null,
   "id": "3bb8b1c5-7635-449f-beab-f70cdd84d6a1",
   "metadata": {},
   "outputs": [],
   "source": [
    "import cv2\n",
    "import os,socket,sys,time\n",
    "import spidev as SPI\n",
    "import xgoscreen.LCD_2inch as LCD_2inch\n",
    "from PIL import Image,ImageDraw,ImageFont\n",
    "from key import Button\n",
    "from xgolib import XGO"
   ]
  },
  {
   "cell_type": "code",
   "execution_count": null,
   "id": "7076dfa5-a712-49a5-a200-9cef649fd63d",
   "metadata": {},
   "outputs": [],
   "source": [
    "g_dog = XGO(port='/dev/ttyAMA0',version=\"xgolite\")\n",
    "mydisplay = LCD_2inch.LCD_2inch()\n",
    "mydisplay.clear()\n",
    "splash = Image.new(\"RGB\", (mydisplay.height, mydisplay.width ),\"black\")\n",
    "mydisplay.ShowImage(splash)\n",
    "button=Button()"
   ]
  },
  {
   "cell_type": "code",
   "execution_count": null,
   "id": "ba3ff043",
   "metadata": {},
   "outputs": [],
   "source": [
    "#-----------------------COMMON INIT-----------------------\n",
    "import cv2\n",
    "import mediapipe as mp\n",
    "mp_face_detection = mp.solutions.face_detection\n",
    "mp_drawing = mp.solutions.drawing_utils\n",
    "\n",
    "# For static images:\n",
    "IMAGE_FILES = []\n",
    "with mp_face_detection.FaceDetection(\n",
    "    model_selection=1, min_detection_confidence=0.5) as face_detection:\n",
    "  for idx, file in enumerate(IMAGE_FILES):\n",
    "    image = cv2.imread(file)\n",
    "    # Convert the BGR image to RGB and process it with MediaPipe Face Detection.\n",
    "    results = face_detection.process(cv2.cvtColor(image, cv2.COLOR_BGR2RGB))\n",
    "\n",
    "    # Draw face detections of each face.\n",
    "    if not results.detections:\n",
    "      continue\n",
    "    annotated_image = image.copy()\n",
    "    for detection in results.detections:\n",
    "      print('Nose tip:')\n",
    "      print(mp_face_detection.get_key_point(\n",
    "          detection, mp_face_detection.FaceKeyPoint.NOSE_TIP))\n",
    "      mp_drawing.draw_detection(annotated_image, detection)\n",
    "    cv2.imwrite('/tmp/annotated_image' + str(idx) + '.png', annotated_image)"
   ]
  },
  {
   "cell_type": "code",
   "execution_count": null,
   "id": "9f36b748",
   "metadata": {},
   "outputs": [],
   "source": [
    "# 导入组件 Importing Components\n",
    "import ipywidgets.widgets as widgets\n",
    "image_widget = widgets.Image(format='jpeg', width=320, height=240)  #设置摄像头显示组件  Set up the camera display component\n",
    "\n",
    "# 将BGR图像转换为JPEG格式的字节流 Convert a BGR image to a JPEG byte stream\n",
    "def bgr8_to_jpeg(value, quality=75):\n",
    "    return bytes(cv2.imencode('.jpg', value)[1])\n",
    "\n",
    "display(image_widget) #显示出来"
   ]
  },
  {
   "cell_type": "code",
   "execution_count": null,
   "id": "6ed8e09c",
   "metadata": {},
   "outputs": [],
   "source": [
    "# For webcam input:\n",
    "cap=cv2.VideoCapture(0)\n",
    "cap.set(3,320)\n",
    "cap.set(4,240)\n",
    "with mp_face_detection.FaceDetection(\n",
    "    model_selection=0, min_detection_confidence=0.5) as face_detection:\n",
    "  while cap.isOpened():\n",
    "    success, image = cap.read()\n",
    "    if not success:\n",
    "      print(\"Ignoring empty camera frame.\")\n",
    "      # If loading a video, use 'break' instead of 'continue'.\n",
    "      continue\n",
    "\n",
    "    # To improve performance, optionally mark the image as not writeable to\n",
    "    # pass by reference.\n",
    "    image.flags.writeable = False\n",
    "    image = cv2.cvtColor(image, cv2.COLOR_BGR2RGB)\n",
    "    results = face_detection.process(image)\n",
    "\n",
    "    # Draw the face detection annotations on the image.\n",
    "    image.flags.writeable = True\n",
    "    image = cv2.cvtColor(image, cv2.COLOR_RGB2BGR)\n",
    "    if results.detections:\n",
    "      for detection in results.detections:\n",
    "        value_x=0\n",
    "        value_y=0\n",
    "        mp_drawing.draw_detection(image, detection)\n",
    "        xy=(mp_face_detection.get_key_point(detection, mp_face_detection.FaceKeyPoint.NOSE_TIP))\n",
    "        face_x=320-xy.x*320\n",
    "        face_y=xy.y*240\n",
    "        value_x = face_x - 160\n",
    "        value_y = face_y - 120\n",
    "        rider_x=value_x\n",
    "        print(face_x,face_y)\n",
    "        if value_x > 55:\n",
    "          value_x = 55\n",
    "        elif value_x < -55:\n",
    "          value_x = -55\n",
    "        if value_y > 75:\n",
    "          value_y = 75\n",
    "        elif value_y < -75:\n",
    "          value_y = -75\n",
    "          \n",
    "    else:\n",
    "      value_x=value_y=face_x=face_y=0\n",
    "      rider_x=9999\n",
    "    print(['y','p'],[value_x/9, value_y/15])\n",
    "    g_dog.attitude(['y','p'],[value_x/9, value_y/15])\n",
    "    \n",
    "\n",
    "    b,g,r = cv2.split(image)\n",
    "    image = cv2.merge((r,g,b))\n",
    "    image = cv2.flip(image, 1)\n",
    "    imgok = Image.fromarray(image)\n",
    "    mydisplay.ShowImage(imgok)\n",
    "\n",
    "    #显示在屏幕上\n",
    "    r,g,b = cv2.split(image)\n",
    "    image1 = cv2.merge((b,g,r))\n",
    "    image_widget.value = bgr8_to_jpeg(image1)\n",
    "    #cv2.imshow(\"image1\",image1)\n",
    "\n",
    "    # Flip the image horizontally for a selfie-view display.\n",
    "    #cv2.imshow('MediaPipe Face Detection', cv2.flip(image, 1))\n",
    "    if cv2.waitKey(5) & 0xFF == 27:\n",
    "      break\n",
    "    if button.press_b():\n",
    "      g_dog.reset()\n",
    "      break"
   ]
  },
  {
   "cell_type": "code",
   "execution_count": null,
   "id": "a23fa02d",
   "metadata": {},
   "outputs": [],
   "source": [
    "cap.release()\n",
    "g_dog.reset()\n",
    "del g_dog"
   ]
  },
  {
   "cell_type": "code",
   "execution_count": null,
   "id": "49d1dee1-a427-4335-8f65-620a0956f57c",
   "metadata": {},
   "outputs": [],
   "source": []
  }
 ],
 "metadata": {
  "kernelspec": {
   "display_name": "Python 3 (ipykernel)",
   "language": "python",
   "name": "python3"
  },
  "language_info": {
   "codemirror_mode": {
    "name": "ipython",
    "version": 3
   },
   "file_extension": ".py",
   "mimetype": "text/x-python",
   "name": "python",
   "nbconvert_exporter": "python",
   "pygments_lexer": "ipython3",
   "version": "3.9.2"
  },
  "vscode": {
   "interpreter": {
    "hash": "75e9df7e176b8fac597ec9907fd9d8af994374620e1bb86231401b54ec4688aa"
   }
  }
 },
 "nbformat": 4,
 "nbformat_minor": 5
}
