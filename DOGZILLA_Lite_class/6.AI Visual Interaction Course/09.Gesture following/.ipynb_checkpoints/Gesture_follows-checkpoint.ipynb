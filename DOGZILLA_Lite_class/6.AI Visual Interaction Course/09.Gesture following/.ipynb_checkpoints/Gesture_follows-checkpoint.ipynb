{
 "cells": [
  {
   "cell_type": "code",
   "execution_count": null,
   "id": "590c80f6-d49b-46c4-b03e-d63df3c4e2de",
   "metadata": {},
   "outputs": [],
   "source": [
    "#bgr8转jpeg格式 bgr8 to jpeg format\n",
    "import enum\n",
    "import cv2\n",
    "\n",
    "def bgr8_to_jpeg(value, quality=75):\n",
    "    return bytes(cv2.imencode('.jpg', value)[1])"
   ]
  },
  {
   "cell_type": "code",
   "execution_count": null,
   "id": "139ebd76",
   "metadata": {},
   "outputs": [],
   "source": [
    "import xgoscreen.LCD_2inch as LCD_2inch\n",
    "from PIL import Image,ImageDraw,ImageFont\n",
    "from xgolib import XGO\n",
    "g_dog = XGO(port='/dev/ttyAMA0',version=\"xgolite\")"
   ]
  },
  {
   "cell_type": "code",
   "execution_count": null,
   "id": "67741c92",
   "metadata": {},
   "outputs": [],
   "source": [
    "mydisplay = LCD_2inch.LCD_2inch()\n",
    "mydisplay.clear()\n",
    "splash = Image.new(\"RGB\", (mydisplay.height, mydisplay.width ),\"black\")   \n",
    "mydisplay.ShowImage(splash)"
   ]
  },
  {
   "cell_type": "code",
   "execution_count": null,
   "id": "e969438a-8ee5-424f-ae3e-5f9a8f72ccdc",
   "metadata": {},
   "outputs": [],
   "source": [
    "import cv2\n",
    "import ipywidgets.widgets as widgets\n",
    "import time\n",
    "import sys\n",
    "import math\n",
    "import threading\n",
    "\n",
    "image_widget = widgets.Image(format='jpeg', width=320, height=240)\n"
   ]
  },
  {
   "cell_type": "code",
   "execution_count": null,
   "id": "bda2c421-7423-44e3-99ac-dd730d5d4061",
   "metadata": {},
   "outputs": [],
   "source": [
    "from gesture_action import handDetector\n",
    "hand_detector = handDetector(detectorCon=0.8)\n",
    "cap = cv2.VideoCapture(0)\n",
    "cap.set(3,320)\n",
    "cap.set(4,240)"
   ]
  },
  {
   "cell_type": "code",
   "execution_count": null,
   "id": "49ad49b7-d738-47b3-b943-28f84d320f46",
   "metadata": {},
   "outputs": [],
   "source": [
    "# 线程功能操作库 Thread function operation library\n",
    "import inspect\n",
    "import ctypes\n",
    "def _async_raise(tid, exctype):\n",
    "    \"\"\"raises the exception, performs cleanup if needed\"\"\"\n",
    "    tid = ctypes.c_long(tid)\n",
    "    if not inspect.isclass(exctype):\n",
    "        exctype = type(exctype)\n",
    "    res = ctypes.pythonapi.PyThreadState_SetAsyncExc(tid, ctypes.py_object(exctype))\n",
    "    if res == 0:\n",
    "        raise ValueError(\"invalid thread id\")\n",
    "    elif res != 1:\n",
    "        # \"\"\"if it returns a number greater than one, you're in trouble,\n",
    "        # and you should call it again with exc=NULL to revert the effect\"\"\"\n",
    "        ctypes.pythonapi.PyThreadState_SetAsyncExc(tid, None)\n",
    "        \n",
    "def stop_thread(thread):\n",
    "    _async_raise(thread.ident, SystemExit)"
   ]
  },
  {
   "cell_type": "code",
   "execution_count": null,
   "id": "2f227d55-92db-4894-ba98-d6d0480a8977",
   "metadata": {},
   "outputs": [],
   "source": [
    "def Gesture_follow():\n",
    "    try:\n",
    "        while True:\n",
    "            global bot\n",
    "            ret, frame = cap.read()\n",
    "            img_height, img_width, _ = frame.shape\n",
    "            hand_detector.findHands(frame, draw=False) \n",
    "            if len(hand_detector.lmList) != 0:\n",
    "                # 转向控制部分\n",
    "                # Turning control section\n",
    "                # MediaPipe中, 手部最中心的指关节的编号为9\n",
    "                # In MediaPipe, the index of the central finger joint is 9\n",
    "                x,y = hand_detector.findPoint(9)\n",
    "                cv2.circle(frame,(int(x),int(y)),2,(0,255,255),6)\n",
    "\n",
    "                value_x = x - 160\n",
    "                value_y = y - 120\n",
    "\n",
    "                if value_x > 55:\n",
    "                    value_x = 55\n",
    "                elif value_x < -55:\n",
    "                    value_x = -55\n",
    "                if value_y > 75:\n",
    "                    value_y = 75\n",
    "                elif value_y < -75:\n",
    "                    value_y = -75\n",
    "\n",
    "\n",
    "                # 前进控制部分\n",
    "                # Forward control section\n",
    "                finger_number = hand_detector.get_gesture()\n",
    "                finger_str=f\"Number:{finger_number}\"\n",
    "                \n",
    "                if(finger_number != \"Zero\"):\n",
    "                    g_dog.attitude(['y','p'],[-value_x/10, value_y/10])\n",
    "                \n",
    "                \n",
    "            \n",
    "            else:\n",
    "                x = 0\n",
    "                y = 0\n",
    "\n",
    "            try:\n",
    "                #图片显示在lcd屏上\n",
    "                image_widget.value = bgr8_to_jpeg(frame)\n",
    "                b,g,r = cv2.split(frame)\n",
    "                frame = cv2.merge((r,g,b))\n",
    "                frame = cv2.flip(frame, 1)\n",
    "                imgok = Image.fromarray(frame)\n",
    "                mydisplay.ShowImage(imgok)\n",
    "\n",
    "            except:\n",
    "                continue\n",
    "    finally:\n",
    "        cap.release()"
   ]
  },
  {
   "cell_type": "code",
   "execution_count": null,
   "id": "9c993e77-3c83-47dd-a662-9a80c239ea0d",
   "metadata": {},
   "outputs": [],
   "source": [
    "display(image_widget)\n",
    "thread1 = threading.Thread(target=Gesture_follow)\n",
    "thread1.daemon=True\n",
    "thread1.start()"
   ]
  },
  {
   "cell_type": "code",
   "execution_count": null,
   "id": "6650ae9c-52cf-4701-b96e-4554b80b2fc3",
   "metadata": {},
   "outputs": [],
   "source": [
    "#结束进程 End the process\n",
    "stop_thread(thread1)\n",
    "g_dog.reset()\n",
    "cap.release()"
   ]
  },
  {
   "cell_type": "code",
   "execution_count": null,
   "id": "e4872b5a-09d4-42a3-8620-9ca211683139",
   "metadata": {},
   "outputs": [],
   "source": []
  }
 ],
 "metadata": {
  "kernelspec": {
   "display_name": "Python 3 (ipykernel)",
   "language": "python",
   "name": "python3"
  },
  "language_info": {
   "codemirror_mode": {
    "name": "ipython",
    "version": 3
   },
   "file_extension": ".py",
   "mimetype": "text/x-python",
   "name": "python",
   "nbconvert_exporter": "python",
   "pygments_lexer": "ipython3",
   "version": "3.9.2"
  },
  "vscode": {
   "interpreter": {
    "hash": "75e9df7e176b8fac597ec9907fd9d8af994374620e1bb86231401b54ec4688aa"
   }
  }
 },
 "nbformat": 4,
 "nbformat_minor": 5
}
