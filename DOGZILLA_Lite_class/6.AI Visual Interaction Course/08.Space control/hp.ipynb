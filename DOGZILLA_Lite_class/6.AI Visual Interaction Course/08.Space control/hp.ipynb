{
 "cells": [
  {
   "cell_type": "code",
   "execution_count": null,
   "metadata": {},
   "outputs": [],
   "source": [
    "# 导入库  import library\n",
    "import cv2\n",
    "import os,socket,sys,time\n",
    "import spidev as SPI\n",
    "import xgoscreen.LCD_2inch as LCD_2inch\n",
    "from PIL import Image,ImageDraw,ImageFont\n",
    "from key import Button\n",
    "import numpy as np\n",
    "from xgolib import XGO \n",
    "import threading\n",
    "import inspect\n",
    "import ctypes\n",
    "import ipywidgets.widgets as widgets\n",
    "from IPython.display import display\n",
    "import handtracking as htm"
   ]
  },
  {
   "cell_type": "code",
   "execution_count": null,
   "metadata": {},
   "outputs": [],
   "source": [
    "# 图像数据转化  Image data transformation\n",
    "def bgr8_to_jpeg(value, quality=75):\n",
    "    return bytes(cv2.imencode('.jpg', value)[1])\n",
    "\n",
    "# 创建摄像头显示组件  Create the camera display component\n",
    "image_widget = widgets.Image(format='jpeg', width=320, height=240) "
   ]
  },
  {
   "cell_type": "code",
   "execution_count": null,
   "metadata": {},
   "outputs": [],
   "source": [
    "dog = XGO(port='/dev/ttyAMA0',version=\"xgolite\")\n",
    "\n",
    "mydisplay = LCD_2inch.LCD_2inch()\n",
    "mydisplay.clear()\n",
    "splash = Image.new(\"RGB\", (mydisplay.height, mydisplay.width ),\"black\")\n",
    "mydisplay.ShowImage(splash)\n",
    "button=Button()\n",
    "\n",
    "cap = cv2.VideoCapture(0) \n",
    "cap.set(3, 320) \n",
    "cap.set(4, 240)\n",
    "length=0\n",
    "\n"
   ]
  },
  {
   "cell_type": "code",
   "execution_count": null,
   "metadata": {},
   "outputs": [],
   "source": [
    "display(image_widget)\n",
    "while True:\n",
    "    success, img = cap.read()\n",
    "    img, lmList ,length= htm.handDetector(img) \n",
    "    b,g,r = cv2.split(img)\n",
    "    img = cv2.merge((r,g,b))\n",
    "    imgok = Image.fromarray(img)\n",
    "    mydisplay.ShowImage(imgok)\n",
    "\n",
    "    r,g,b = cv2.split(img)\n",
    "    frame = cv2.merge((b,g,r))\n",
    "    image_widget.value = bgr8_to_jpeg(frame)\n",
    "    #cv2.imshow('frame',frame)\n",
    "    #cv2.waitKey(1)\n",
    "\n",
    "    if length!=0:\n",
    "        if length>1000:\n",
    "            length=1000\n",
    "        h=length/1000*40\n",
    "        dog.translation('z', 75+h)\n",
    "    else:\n",
    "        dog.translation('z',95)\n",
    "    if button.press_b():\n",
    "        dog.reset()\n",
    "        break\n",
    "\n",
    " \n",
    "cap.release()\n",
    "cv2.destroyAllWindows()\n"
   ]
  },
  {
   "cell_type": "code",
   "execution_count": null,
   "metadata": {},
   "outputs": [],
   "source": []
  }
 ],
 "metadata": {
  "kernelspec": {
   "display_name": "Python 3 (ipykernel)",
   "language": "python",
   "name": "python3"
  },
  "language_info": {
   "codemirror_mode": {
    "name": "ipython",
    "version": 3
   },
   "file_extension": ".py",
   "mimetype": "text/x-python",
   "name": "python",
   "nbconvert_exporter": "python",
   "pygments_lexer": "ipython3",
   "version": "3.9.2"
  }
 },
 "nbformat": 4,
 "nbformat_minor": 4
}
