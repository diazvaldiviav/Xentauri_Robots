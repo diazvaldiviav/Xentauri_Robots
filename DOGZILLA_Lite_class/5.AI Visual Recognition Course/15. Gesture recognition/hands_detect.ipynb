{
 "cells": [
  {
   "cell_type": "code",
   "execution_count": 1,
   "id": "3bb8b1c5-7635-449f-beab-f70cdd84d6a1",
   "metadata": {},
   "outputs": [],
   "source": [
    "import cv2\n",
    "import os,socket,sys,time\n",
    "import spidev as SPI\n",
    "import xgoscreen.LCD_2inch as LCD_2inch\n",
    "from PIL import Image,ImageDraw,ImageFont\n",
    "import numpy as np\n",
    "import mediapipe as mp\n",
    "from numpy import linalg\n",
    "from xgolib import XGO"
   ]
  },
  {
   "cell_type": "code",
   "execution_count": 2,
   "id": "8d43ba0c-15d1-48c0-80cd-39c9c36bd627",
   "metadata": {},
   "outputs": [],
   "source": [
    "dog = XGO(port='/dev/ttyAMA0',version=\"xgolite\")"
   ]
  },
  {
   "cell_type": "code",
   "execution_count": 3,
   "id": "7076dfa5-a712-49a5-a200-9cef649fd63d",
   "metadata": {},
   "outputs": [],
   "source": [
    "mydisplay = LCD_2inch.LCD_2inch()\n",
    "mydisplay.clear()\n",
    "splash = Image.new(\"RGB\", (mydisplay.height, mydisplay.width ),\"black\")\n",
    "mydisplay.ShowImage(splash)"
   ]
  },
  {
   "cell_type": "code",
   "execution_count": 4,
   "id": "ba3ff043",
   "metadata": {},
   "outputs": [
    {
     "name": "stderr",
     "output_type": "stream",
     "text": [
      "INFO: Created TensorFlow Lite XNNPACK delegate for CPU.\n"
     ]
    }
   ],
   "source": [
    "#-----------------------COMMON INIT-----------------------\n",
    "import cv2\n",
    "import mediapipe as mp\n",
    "mp_drawing = mp.solutions.drawing_utils\n",
    "mp_drawing_styles = mp.solutions.drawing_styles\n",
    "mp_hands = mp.solutions.hands\n",
    "\n",
    "\n",
    "def finger_stretch_detect(point1, point2, point3):\n",
    "    result = 0\n",
    "    dist1 = np.linalg.norm((point2 - point1), ord=2)\n",
    "    dist2 = np.linalg.norm((point3 - point1), ord=2)\n",
    "    if dist2 > dist1:\n",
    "        result = 1\n",
    "    return result\n",
    "    \n",
    "def detect_hands_gesture(result):\n",
    "    if (result[0] == 1) and (result[1] == 0) and (result[2] == 0) and (result[3] == 0) and (result[4] == 0):\n",
    "        gesture = \"good\"\n",
    "    elif (result[0] == 0) and (result[1] == 1)and (result[2] == 0) and (result[3] == 0) and (result[4] == 0):\n",
    "        gesture = \"one\"\n",
    "    elif (result[0] == 0) and (result[1] == 0)and (result[2] == 1) and (result[3] == 0) and (result[4] == 0):\n",
    "        gesture = \"please civilization in testing\"\n",
    "    elif (result[0] == 0) and (result[1] == 1)and (result[2] == 1) and (result[3] == 0) and (result[4] == 0):\n",
    "        gesture = \"two\"\n",
    "    elif (result[0] == 0) and (result[1] == 1)and (result[2] == 1) and (result[3] == 1) and (result[4] == 0):\n",
    "        gesture = \"three\"\n",
    "    elif (result[0] == 0) and (result[1] == 1)and (result[2] == 1) and (result[3] == 1) and (result[4] == 1):\n",
    "        gesture = \"four\"\n",
    "    elif (result[0] == 1) and (result[1] == 1)and (result[2] == 1) and (result[3] == 1) and (result[4] == 1):\n",
    "        gesture = \"five\"\n",
    "    elif (result[0] == 1) and (result[1] == 0)and (result[2] == 0) and (result[3] == 0) and (result[4] == 1):\n",
    "        gesture = \"six\"\n",
    "    elif (result[0] == 0) and (result[1] == 0)and (result[2] == 1) and (result[3] == 1) and (result[4] == 1):\n",
    "        gesture = \"OK\"\n",
    "    elif(result[0] == 0) and (result[1] == 0) and (result[2] == 0) and (result[3] == 0) and (result[4] == 0):\n",
    "        gesture = \"stone\"\n",
    "    else:\n",
    "        gesture = \"not in detect range...\"\n",
    "    \n",
    "    return gesture\n",
    "\n",
    "\n",
    "\n",
    "# For static images:\n",
    "IMAGE_FILES = []\n",
    "with mp_hands.Hands(\n",
    "    static_image_mode=True,\n",
    "    max_num_hands=2,\n",
    "    min_detection_confidence=0.5) as hands:\n",
    "  for idx, file in enumerate(IMAGE_FILES):\n",
    "    # Read an image, flip it around y-axis for correct handedness output (see\n",
    "    # above).\n",
    "    image = cv2.flip(cv2.imread(file), 1)\n",
    "    # Convert the BGR image to RGB before processing.\n",
    "    results = hands.process(cv2.cvtColor(image, cv2.COLOR_BGR2RGB))\n",
    "\n",
    "    # Print handedness and draw hand landmarks on the image.\n",
    "    print('Handedness:', results.multi_handedness)\n",
    "    if not results.multi_hand_landmarks:\n",
    "      continue\n",
    "    image_height, image_width, _ = image.shape\n",
    "    annotated_image = image.copy()\n",
    "    for hand_landmarks in results.multi_hand_landmarks:\n",
    "      #print('hand_landmarks:', hand_landmarks)\n",
    "      '''\n",
    "      print(\n",
    "          f'Index finger tip coordinates: (',\n",
    "          f'{hand_landmarks.landmark[mp_hands.HandLandmark.INDEX_FINGER_TIP].x * image_width}, '\n",
    "          f'{hand_landmarks.landmark[mp_hands.HandLandmark.INDEX_FINGER_TIP].y * image_height})'\n",
    "      )\n",
    "      '''\n",
    "      mp_drawing.draw_landmarks(\n",
    "          annotated_image,\n",
    "          hand_landmarks,\n",
    "          mp_hands.HAND_CONNECTIONS,\n",
    "          mp_drawing_styles.get_default_hand_landmarks_style(),\n",
    "          mp_drawing_styles.get_default_hand_connections_style())\n",
    "\n",
    "    cv2.imwrite(\n",
    "        '/tmp/annotated_image' + str(idx) + '.png', cv2.flip(annotated_image, 1))\n",
    "    # Draw hand world landmarks.\n",
    "    if not results.multi_hand_world_landmarks:\n",
    "      continue\n",
    "    for hand_world_landmarks in results.multi_hand_world_landmarks:\n",
    "      mp_drawing.plot_landmarks(\n",
    "        hand_world_landmarks, mp_hands.HAND_CONNECTIONS, azimuth=5)\n"
   ]
  },
  {
   "cell_type": "code",
   "execution_count": 5,
   "id": "9f36b748",
   "metadata": {},
   "outputs": [
    {
     "data": {
      "application/vnd.jupyter.widget-view+json": {
       "model_id": "ef88d6c0d51e491d8f4ce4e98c07d0bf",
       "version_major": 2,
       "version_minor": 0
      },
      "text/plain": [
       "Image(value=b'', format='jpeg', height='240', width='320')"
      ]
     },
     "metadata": {},
     "output_type": "display_data"
    }
   ],
   "source": [
    "# 导入组件 Importing Components\n",
    "import ipywidgets.widgets as widgets\n",
    "image_widget = widgets.Image(format='jpeg', width=320, height=240)  #设置摄像头显示组件  Set up the camera display component\n",
    "\n",
    "# 将BGR图像转换为JPEG格式的字节流 Convert a BGR image to a JPEG byte stream\n",
    "def bgr8_to_jpeg(value, quality=75):\n",
    "    return bytes(cv2.imencode('.jpg', value)[1])\n",
    "\n",
    "display(image_widget) #显示出来"
   ]
  },
  {
   "cell_type": "code",
   "execution_count": 6,
   "id": "23dbd661",
   "metadata": {},
   "outputs": [
    {
     "ename": "KeyboardInterrupt",
     "evalue": "",
     "output_type": "error",
     "traceback": [
      "\u001b[0;31m---------------------------------------------------------------------------\u001b[0m",
      "\u001b[0;31mKeyboardInterrupt\u001b[0m                         Traceback (most recent call last)",
      "Cell \u001b[0;32mIn[6], line 26\u001b[0m\n\u001b[1;32m     24\u001b[0m     \u001b[38;5;28;01mbreak\u001b[39;00m\n\u001b[1;32m     25\u001b[0m frame_RGB \u001b[38;5;241m=\u001b[39m cv2\u001b[38;5;241m.\u001b[39mcvtColor(frame, cv2\u001b[38;5;241m.\u001b[39mCOLOR_BGR2RGB)\n\u001b[0;32m---> 26\u001b[0m result \u001b[38;5;241m=\u001b[39m \u001b[43mhands\u001b[49m\u001b[38;5;241;43m.\u001b[39;49m\u001b[43mprocess\u001b[49m\u001b[43m(\u001b[49m\u001b[43mframe_RGB\u001b[49m\u001b[43m)\u001b[49m\n\u001b[1;32m     27\u001b[0m frame_height \u001b[38;5;241m=\u001b[39m frame\u001b[38;5;241m.\u001b[39mshape[\u001b[38;5;241m0\u001b[39m]\n\u001b[1;32m     28\u001b[0m frame_width  \u001b[38;5;241m=\u001b[39m frame\u001b[38;5;241m.\u001b[39mshape[\u001b[38;5;241m1\u001b[39m]\n",
      "File \u001b[0;32m~/.local/lib/python3.9/site-packages/mediapipe/python/solutions/hands.py:153\u001b[0m, in \u001b[0;36mHands.process\u001b[0;34m(self, image)\u001b[0m\n\u001b[1;32m    132\u001b[0m \u001b[38;5;28;01mdef\u001b[39;00m \u001b[38;5;21mprocess\u001b[39m(\u001b[38;5;28mself\u001b[39m, image: np\u001b[38;5;241m.\u001b[39mndarray) \u001b[38;5;241m-\u001b[39m\u001b[38;5;241m>\u001b[39m NamedTuple:\n\u001b[1;32m    133\u001b[0m   \u001b[38;5;124;03m\"\"\"Processes an RGB image and returns the hand landmarks and handedness of each detected hand.\u001b[39;00m\n\u001b[1;32m    134\u001b[0m \n\u001b[1;32m    135\u001b[0m \u001b[38;5;124;03m  Args:\u001b[39;00m\n\u001b[0;32m   (...)\u001b[0m\n\u001b[1;32m    150\u001b[0m \u001b[38;5;124;03m         right hand) of the detected hand.\u001b[39;00m\n\u001b[1;32m    151\u001b[0m \u001b[38;5;124;03m  \"\"\"\u001b[39;00m\n\u001b[0;32m--> 153\u001b[0m   \u001b[38;5;28;01mreturn\u001b[39;00m \u001b[38;5;28;43msuper\u001b[39;49m\u001b[43m(\u001b[49m\u001b[43m)\u001b[49m\u001b[38;5;241;43m.\u001b[39;49m\u001b[43mprocess\u001b[49m\u001b[43m(\u001b[49m\u001b[43minput_data\u001b[49m\u001b[38;5;241;43m=\u001b[39;49m\u001b[43m{\u001b[49m\u001b[38;5;124;43m'\u001b[39;49m\u001b[38;5;124;43mimage\u001b[39;49m\u001b[38;5;124;43m'\u001b[39;49m\u001b[43m:\u001b[49m\u001b[43m \u001b[49m\u001b[43mimage\u001b[49m\u001b[43m}\u001b[49m\u001b[43m)\u001b[49m\n",
      "File \u001b[0;32m~/.local/lib/python3.9/site-packages/mediapipe/python/solution_base.py:350\u001b[0m, in \u001b[0;36mSolutionBase.process\u001b[0;34m(self, input_data)\u001b[0m\n\u001b[1;32m    344\u001b[0m   \u001b[38;5;28;01melse\u001b[39;00m:\n\u001b[1;32m    345\u001b[0m     \u001b[38;5;28mself\u001b[39m\u001b[38;5;241m.\u001b[39m_graph\u001b[38;5;241m.\u001b[39madd_packet_to_input_stream(\n\u001b[1;32m    346\u001b[0m         stream\u001b[38;5;241m=\u001b[39mstream_name,\n\u001b[1;32m    347\u001b[0m         packet\u001b[38;5;241m=\u001b[39m\u001b[38;5;28mself\u001b[39m\u001b[38;5;241m.\u001b[39m_make_packet(input_stream_type,\n\u001b[1;32m    348\u001b[0m                                  data)\u001b[38;5;241m.\u001b[39mat(\u001b[38;5;28mself\u001b[39m\u001b[38;5;241m.\u001b[39m_simulated_timestamp))\n\u001b[0;32m--> 350\u001b[0m \u001b[38;5;28;43mself\u001b[39;49m\u001b[38;5;241;43m.\u001b[39;49m\u001b[43m_graph\u001b[49m\u001b[38;5;241;43m.\u001b[39;49m\u001b[43mwait_until_idle\u001b[49m\u001b[43m(\u001b[49m\u001b[43m)\u001b[49m\n\u001b[1;32m    351\u001b[0m \u001b[38;5;66;03m# Create a NamedTuple object where the field names are mapping to the graph\u001b[39;00m\n\u001b[1;32m    352\u001b[0m \u001b[38;5;66;03m# output stream names.\u001b[39;00m\n\u001b[1;32m    353\u001b[0m solution_outputs \u001b[38;5;241m=\u001b[39m collections\u001b[38;5;241m.\u001b[39mnamedtuple(\n\u001b[1;32m    354\u001b[0m     \u001b[38;5;124m'\u001b[39m\u001b[38;5;124mSolutionOutputs\u001b[39m\u001b[38;5;124m'\u001b[39m, \u001b[38;5;28mself\u001b[39m\u001b[38;5;241m.\u001b[39m_output_stream_type_info\u001b[38;5;241m.\u001b[39mkeys())\n",
      "\u001b[0;31mKeyboardInterrupt\u001b[0m: "
     ]
    }
   ],
   "source": [
    "# For webcam input:\n",
    "cap=cv2.VideoCapture(0)\n",
    "cap.set(3,320)\n",
    "cap.set(4,240)\n",
    "\n",
    "mpHands = mp.solutions.hands\n",
    "hands = mpHands.Hands()\n",
    "mpDraw = mp.solutions.drawing_utils\n",
    "handLmsStyle = mpDraw.DrawingSpec(color=(0, 0, 255), thickness=int(5))\n",
    "handConStyle = mpDraw.DrawingSpec(color=(0, 255, 0), thickness=int(10))\n",
    "\n",
    "figure = np.zeros(5)\n",
    "landmark = np.empty((21, 2))\n",
    "\n",
    "\n",
    "with mp_hands.Hands(\n",
    "    model_complexity=0,\n",
    "    min_detection_confidence=0.5,\n",
    "    min_tracking_confidence=0.5) as hands:\n",
    "  while cap.isOpened():\n",
    "    ret, frame = cap.read()\n",
    "    if not ret:\n",
    "        print(\"Can not receive frame (stream end?). Exiting...\")\n",
    "        break\n",
    "    frame_RGB = cv2.cvtColor(frame, cv2.COLOR_BGR2RGB)\n",
    "    result = hands.process(frame_RGB)\n",
    "    frame_height = frame.shape[0]\n",
    "    frame_width  = frame.shape[1]\n",
    "    gesture_result=[]\n",
    "    if result.multi_hand_landmarks:\n",
    "        for i, handLms in enumerate(result.multi_hand_landmarks):\n",
    "            mpDraw.draw_landmarks(frame, \n",
    "                                  handLms, \n",
    "                                  mpHands.HAND_CONNECTIONS,\n",
    "                                  landmark_drawing_spec=handLmsStyle,\n",
    "                                  connection_drawing_spec=handConStyle)\n",
    "\n",
    "            for j, lm in enumerate(handLms.landmark):\n",
    "                xPos = int(lm.x * frame_width)\n",
    "                yPos = int(lm.y * frame_height)\n",
    "                landmark_ = [xPos, yPos]\n",
    "                landmark[j,:] = landmark_\n",
    "\n",
    "            for k in range (5):\n",
    "                if k == 0:\n",
    "                    figure_ = finger_stretch_detect(landmark[17],landmark[4*k+2],landmark[4*k+4])\n",
    "                else:    \n",
    "                    figure_ = finger_stretch_detect(landmark[0],landmark[4*k+2],landmark[4*k+4])\n",
    "\n",
    "                figure[k] = figure_\n",
    "\n",
    "            gesture_result = detect_hands_gesture(figure)\n",
    "\n",
    "    b,g,r = cv2.split(frame)\n",
    "    frame = cv2.merge((r,g,b))\n",
    "    frame = cv2.flip(frame, 1)\n",
    "    if result.multi_hand_landmarks:\n",
    "      cv2.putText(frame, f\"{gesture_result}\", (10,30), cv2.FONT_HERSHEY_COMPLEX, 1, (255 ,255, 0), 5)        \n",
    "    \n",
    "    imgok = Image.fromarray(frame)\n",
    "    mydisplay.ShowImage(imgok)\n",
    "\n",
    "    #把结果显示到电脑上\n",
    "    r,g,b = cv2.split(frame)\n",
    "    frame1 = cv2.merge((b,g,r))\n",
    "    image_widget.value = bgr8_to_jpeg(frame1)\n",
    "    #cv2.imshow(\"image1\",frame1)\n",
    "\n",
    "    if cv2.waitKey(5) & 0xFF == 27:\n",
    "      break\n"
   ]
  },
  {
   "cell_type": "code",
   "execution_count": 7,
   "id": "a23fa02d",
   "metadata": {},
   "outputs": [],
   "source": [
    "cap.release()\n",
    "dog.reset()\n",
    "mydisplay.clear()\n",
    "del dog"
   ]
  },
  {
   "cell_type": "code",
   "execution_count": null,
   "id": "49d1dee1-a427-4335-8f65-620a0956f57c",
   "metadata": {},
   "outputs": [],
   "source": []
  }
 ],
 "metadata": {
  "kernelspec": {
   "display_name": "Python 3 (ipykernel)",
   "language": "python",
   "name": "python3"
  },
  "language_info": {
   "codemirror_mode": {
    "name": "ipython",
    "version": 3
   },
   "file_extension": ".py",
   "mimetype": "text/x-python",
   "name": "python",
   "nbconvert_exporter": "python",
   "pygments_lexer": "ipython3",
   "version": "3.9.2"
  },
  "vscode": {
   "interpreter": {
    "hash": "75e9df7e176b8fac597ec9907fd9d8af994374620e1bb86231401b54ec4688aa"
   }
  }
 },
 "nbformat": 4,
 "nbformat_minor": 5
}
