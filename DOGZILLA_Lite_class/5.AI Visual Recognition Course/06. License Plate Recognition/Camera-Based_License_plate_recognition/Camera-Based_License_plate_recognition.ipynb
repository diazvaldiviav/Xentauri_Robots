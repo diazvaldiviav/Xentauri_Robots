{
 "cells": [
  {
   "cell_type": "raw",
   "metadata": {},
   "source": [
    "@Copyright (C): 2015-2024, Shenzhen Yahboom Tech  \n",
    "@Author: clhchan\n",
    "@Date: 2024-07-25  "
   ]
  },
  {
   "cell_type": "code",
   "execution_count": 14,
   "metadata": {},
   "outputs": [],
   "source": [
    "# 导入组件 Importing Components\n",
    "import ipywidgets.widgets as widgets\n",
    "image_widget = widgets.Image(format='jpeg', width=640, height=640)  #设置摄像头显示组件  Set up the camera display component\n",
    "\n",
    "# 导入cv相关库 Import cv related libraries\n",
    "import cv2\n",
    "import numpy as np\n",
    "from PIL import ImageFont\n",
    "from PIL import Image\n",
    "from PIL import ImageDraw\n",
    "# 导入依赖包 Import dependency packages\n",
    "import hyperlpr3 as lpr3\n",
    "import time"
   ]
  },
  {
   "cell_type": "code",
   "execution_count": 15,
   "metadata": {},
   "outputs": [],
   "source": [
    "# 将BGR图像转换为JPEG格式的字节流 Convert a BGR image to a JPEG byte stream\n",
    "def bgr8_to_jpeg(value, quality=75):\n",
    "    return bytes(cv2.imencode('.jpg', value)[1])\n",
    "\n",
    "# 在图像上绘制车牌框及文字 Draw the license plate frame and text on the image\n",
    "def draw_plate_on_image(img, box, text, font):\n",
    "    x1, y1, x2, y2 = box\n",
    "    cv2.rectangle(img, (x1, y1), (x2, y2), (225, 32, 39), 2, cv2.LINE_AA)\n",
    "    cv2.rectangle(img, (x1, y1 - 20), (x2, y1), (225, 32, 39), -1)\n",
    "    data = Image.fromarray(img)\n",
    "    draw = ImageDraw.Draw(data)\n",
    "    draw.text((x1 + 1, y1 - 18), text, (255, 255, 255), font=font)\n",
    "    res = np.asarray(data)\n",
    "    return res\n"
   ]
  },
  {
   "cell_type": "code",
   "execution_count": 16,
   "metadata": {},
   "outputs": [],
   "source": [
    "import cv2\n",
    "import os,socket,sys,time\n",
    "import spidev as SPI\n",
    "import xgoscreen.LCD_2inch as LCD_2inch\n",
    "from PIL import Image,ImageDraw,ImageFont\n",
    "import numpy as np\n",
    "import mediapipe as mp\n",
    "from numpy import linalg\n",
    "from xgolib import XGO"
   ]
  },
  {
   "cell_type": "code",
   "execution_count": 17,
   "metadata": {},
   "outputs": [
    {
     "name": "stdout",
     "output_type": "stream",
     "text": [
      "XGO-LITE\n"
     ]
    }
   ],
   "source": [
    "g_car = XGO(port='/dev/ttyAMA0',version=\"xgolite\")\n",
    "fm=g_car.read_firmware()\n",
    "if fm[0]=='M':\n",
    "    print('XGO-MINI')\n",
    "    g_car = XGO(port='/dev/ttyAMA0',version=\"xgomini\")\n",
    "    dog_type='M'\n",
    "elif fm[0]=='L':\n",
    "    print('XGO-LITE')\n",
    "    dog_type='L'\n",
    "elif fm[0]=='R':\n",
    "    print('XGO-RIDER')\n",
    "    g_car = XGO(port='/dev/ttyAMA0',version=\"xgorider\")\n",
    "    dog_type='R'"
   ]
  },
  {
   "cell_type": "code",
   "execution_count": 18,
   "metadata": {},
   "outputs": [],
   "source": [
    "#清屏\n",
    "mydisplay = LCD_2inch.LCD_2inch()\n",
    "mydisplay.clear()\n",
    "splash = Image.new(\"RGB\", (mydisplay.height, mydisplay.width ),\"black\")\n",
    "mydisplay.ShowImage(splash)"
   ]
  },
  {
   "cell_type": "code",
   "execution_count": 19,
   "metadata": {
    "scrolled": true
   },
   "outputs": [
    {
     "data": {
      "application/vnd.jupyter.widget-view+json": {
       "model_id": "f88fa244c08a49db8b02a4c9bd45360e",
       "version_major": 2,
       "version_minor": 0
      },
      "text/plain": [
       "Image(value=b'', format='jpeg', height='640', width='640')"
      ]
     },
     "metadata": {},
     "output_type": "display_data"
    },
    {
     "name": "stderr",
     "output_type": "stream",
     "text": [
      "[ WARN:0@81.202] global cap_v4l.cpp:982 open VIDEOIO(V4L2:/dev/video0): can't open camera by index\n",
      "[ERROR:0@81.207] global obsensor_uvc_stream_channel.cpp:156 getStreamChannelGroup Camera index out of range\n"
     ]
    },
    {
     "ename": "AttributeError",
     "evalue": "'NoneType' object has no attribute 'shape'",
     "output_type": "error",
     "traceback": [
      "\u001b[0;31m---------------------------------------------------------------------------\u001b[0m",
      "\u001b[0;31mAttributeError\u001b[0m                            Traceback (most recent call last)",
      "Cell \u001b[0;32mIn[19], line 20\u001b[0m\n\u001b[1;32m     18\u001b[0m ret, frame \u001b[38;5;241m=\u001b[39m camera\u001b[38;5;241m.\u001b[39mread()\n\u001b[1;32m     19\u001b[0m \u001b[38;5;66;03m# 执行识别算法\u001b[39;00m\n\u001b[0;32m---> 20\u001b[0m results \u001b[38;5;241m=\u001b[39m \u001b[43mcatcher\u001b[49m\u001b[43m(\u001b[49m\u001b[43mframe\u001b[49m\u001b[43m)\u001b[49m\n\u001b[1;32m     21\u001b[0m \u001b[38;5;66;03m# 计算帧率\u001b[39;00m\n\u001b[1;32m     22\u001b[0m cTime \u001b[38;5;241m=\u001b[39m time\u001b[38;5;241m.\u001b[39mtime()\n",
      "File \u001b[0;32m/usr/local/lib/python3.9/dist-packages/hyperlpr3/hyperlpr3.py:39\u001b[0m, in \u001b[0;36mLicensePlateCatcher.__call__\u001b[0;34m(self, image, *args, **kwargs)\u001b[0m\n\u001b[1;32m     38\u001b[0m \u001b[38;5;28;01mdef\u001b[39;00m \u001b[38;5;21m__call__\u001b[39m(\u001b[38;5;28mself\u001b[39m, image: np\u001b[38;5;241m.\u001b[39mndarray, \u001b[38;5;241m*\u001b[39margs, \u001b[38;5;241m*\u001b[39m\u001b[38;5;241m*\u001b[39mkwargs):\n\u001b[0;32m---> 39\u001b[0m     \u001b[38;5;28;01mreturn\u001b[39;00m \u001b[38;5;28;43mself\u001b[39;49m\u001b[38;5;241;43m.\u001b[39;49m\u001b[43mpipeline\u001b[49m\u001b[43m(\u001b[49m\u001b[43mimage\u001b[49m\u001b[43m)\u001b[49m\n",
      "File \u001b[0;32m/usr/local/lib/python3.9/dist-packages/hyperlpr3/inference/pipeline.py:64\u001b[0m, in \u001b[0;36mLPRMultiTaskPipeline.__call__\u001b[0;34m(self, image, *args, **kwargs)\u001b[0m\n\u001b[1;32m     63\u001b[0m \u001b[38;5;28;01mdef\u001b[39;00m \u001b[38;5;21m__call__\u001b[39m(\u001b[38;5;28mself\u001b[39m, image: np\u001b[38;5;241m.\u001b[39mndarray, \u001b[38;5;241m*\u001b[39margs, \u001b[38;5;241m*\u001b[39m\u001b[38;5;241m*\u001b[39mkwargs):\n\u001b[0;32m---> 64\u001b[0m     \u001b[38;5;28;01mreturn\u001b[39;00m \u001b[38;5;28;43mself\u001b[39;49m\u001b[38;5;241;43m.\u001b[39;49m\u001b[43mrun\u001b[49m\u001b[43m(\u001b[49m\u001b[43mimage\u001b[49m\u001b[43m)\u001b[49m\n",
      "File \u001b[0;32m/usr/local/lib/python3.9/dist-packages/hyperlpr3/inference/pipeline.py:16\u001b[0m, in \u001b[0;36mLPRMultiTaskPipeline.run\u001b[0;34m(self, image)\u001b[0m\n\u001b[1;32m     14\u001b[0m \u001b[38;5;28;01mdef\u001b[39;00m \u001b[38;5;21mrun\u001b[39m(\u001b[38;5;28mself\u001b[39m, image: np\u001b[38;5;241m.\u001b[39mndarray) \u001b[38;5;241m-\u001b[39m\u001b[38;5;241m>\u001b[39m \u001b[38;5;28mlist\u001b[39m:\n\u001b[1;32m     15\u001b[0m     result \u001b[38;5;241m=\u001b[39m \u001b[38;5;28mlist\u001b[39m()\n\u001b[0;32m---> 16\u001b[0m     \u001b[38;5;28;01massert\u001b[39;00m \u001b[38;5;28mlen\u001b[39m(\u001b[43mimage\u001b[49m\u001b[38;5;241;43m.\u001b[39;49m\u001b[43mshape\u001b[49m) \u001b[38;5;241m==\u001b[39m \u001b[38;5;241m3\u001b[39m, \u001b[38;5;124m\"\u001b[39m\u001b[38;5;124mInput image must be 3 channels.\u001b[39m\u001b[38;5;124m\"\u001b[39m\n\u001b[1;32m     17\u001b[0m     \u001b[38;5;28;01massert\u001b[39;00m image \u001b[38;5;129;01mis\u001b[39;00m \u001b[38;5;129;01mnot\u001b[39;00m \u001b[38;5;28;01mNone\u001b[39;00m, \u001b[38;5;124m\"\u001b[39m\u001b[38;5;124mInput image cannot be empty.\u001b[39m\u001b[38;5;124m\"\u001b[39m\n\u001b[1;32m     18\u001b[0m     outputs \u001b[38;5;241m=\u001b[39m \u001b[38;5;28mself\u001b[39m\u001b[38;5;241m.\u001b[39mdetector(image)\n",
      "\u001b[0;31mAttributeError\u001b[0m: 'NoneType' object has no attribute 'shape'"
     ]
    }
   ],
   "source": [
    "try:\n",
    "    code=0\n",
    "    confidence=0\n",
    "    type_idx=0\n",
    "    box=0\n",
    "    image=0\n",
    "    display(image_widget)\n",
    "    # 中文字体加载 Chinese font loading\n",
    "    font_ch = ImageFont.truetype(\"platech.ttf\", 20, 0)\n",
    "    # 实例化识别对象 Instantiate the recognition object\n",
    "    catcher = lpr3.LicensePlateCatcher(detect_level=lpr3.DETECT_LEVEL_LOW)#DETECT_LEVEL_HIGH640*640\n",
    "    \n",
    "    camera = cv2.VideoCapture(0)     # 定义摄像头对象，参数0表示第一个摄像头，默认640x480 Define the camera object. Parameter 0 indicates the first camera. The default resolution is 640x480.\n",
    "    camera.set(3, 320)\n",
    "    camera.set(4, 240)\n",
    "    pTime, cTime = 0, 0\n",
    "    while True:\n",
    "        ret, frame = camera.read()\n",
    "        # 执行识别算法\n",
    "        results = catcher(frame)\n",
    "        # 计算帧率\n",
    "        cTime = time.time()\n",
    "        fps = 1 / (cTime - pTime)\n",
    "        pTime = cTime\n",
    "        text = \"FPS : \" + str(int(fps))\n",
    "        cv2.putText(frame, f\"FPS: {fps:.1f}\", (10, 30), cv2.FONT_HERSHEY_SIMPLEX, 0.9, (0, 255, 0), 2)\n",
    "        # 初始化图像变量 Initialize image variables\n",
    "        image = frame.copy()  # 使用原始帧作为默认图像 Use original frame as default image\n",
    "        for code, confidence, type_idx, box in results:\n",
    "                text = f\"{code} - {confidence:.2f}\"\n",
    "                image = draw_plate_on_image(frame, box, text, font=font_ch)\n",
    "       \n",
    "        if results and len(results) > 0:\n",
    "            code, confidence, _, _ = results[0]\n",
    "            carcher_str = f'carcher : {code}'\n",
    "            confidence_str = f'confidence: {confidence:.2f}'\n",
    "        \n",
    "        image_widget.value = bgr8_to_jpeg(image)\n",
    "\n",
    "        #显示在小车的lcd屏幕上\n",
    "        b,g,r = cv2.split(frame)\n",
    "        img = cv2.merge((r,g,b))\n",
    "        imgok = Image.fromarray(img)\n",
    "        mydisplay.ShowImage(imgok)\n",
    "        \n",
    "\n",
    "        # cv2.imshow('frame', frame)\n",
    "        cher_list = results[0] if results and results[0] is not None else None\n",
    "        if cher_list is not None:\n",
    "            print(cher_list)\n",
    "        # if cv2.waitKey(1) & 0xFF == ord('q'):\n",
    "        #     break\n",
    "\n",
    "except KeyboardInterrupt:\n",
    "    # picam2.stop()\n",
    "    # picam2.close()\n",
    "    camera.release()"
   ]
  },
  {
   "cell_type": "code",
   "execution_count": 21,
   "metadata": {},
   "outputs": [
    {
     "ename": "NameError",
     "evalue": "name 'g_car' is not defined",
     "output_type": "error",
     "traceback": [
      "\u001b[0;31m---------------------------------------------------------------------------\u001b[0m",
      "\u001b[0;31mNameError\u001b[0m                                 Traceback (most recent call last)",
      "Cell \u001b[0;32mIn[21], line 8\u001b[0m\n\u001b[1;32m      5\u001b[0m splash \u001b[38;5;241m=\u001b[39m Image\u001b[38;5;241m.\u001b[39mnew(\u001b[38;5;124m\"\u001b[39m\u001b[38;5;124mRGB\u001b[39m\u001b[38;5;124m\"\u001b[39m, (mydisplay\u001b[38;5;241m.\u001b[39mheight, mydisplay\u001b[38;5;241m.\u001b[39mwidth ),\u001b[38;5;124m\"\u001b[39m\u001b[38;5;124mblack\u001b[39m\u001b[38;5;124m\"\u001b[39m)\n\u001b[1;32m      6\u001b[0m mydisplay\u001b[38;5;241m.\u001b[39mShowImage(splash)\n\u001b[0;32m----> 8\u001b[0m \u001b[38;5;28;01mdel\u001b[39;00m g_car\n",
      "\u001b[0;31mNameError\u001b[0m: name 'g_car' is not defined"
     ]
    }
   ],
   "source": [
    "#最后需要释放掉摄像头的占用 Finally, you need to release the camera's occupancy\n",
    "camera.release()\n",
    "\n",
    "mydisplay.clear()\n",
    "splash = Image.new(\"RGB\", (mydisplay.height, mydisplay.width ),\"black\")\n",
    "mydisplay.ShowImage(splash)\n",
    "\n",
    "del g_car"
   ]
  },
  {
   "cell_type": "code",
   "execution_count": null,
   "metadata": {},
   "outputs": [],
   "source": []
  }
 ],
 "metadata": {
  "kernelspec": {
   "display_name": "Python 3 (ipykernel)",
   "language": "python",
   "name": "python3"
  },
  "language_info": {
   "codemirror_mode": {
    "name": "ipython",
    "version": 3
   },
   "file_extension": ".py",
   "mimetype": "text/x-python",
   "name": "python",
   "nbconvert_exporter": "python",
   "pygments_lexer": "ipython3",
   "version": "3.9.2"
  },
  "vscode": {
   "interpreter": {
    "hash": "75e9df7e176b8fac597ec9907fd9d8af994374620e1bb86231401b54ec4688aa"
   }
  }
 },
 "nbformat": 4,
 "nbformat_minor": 4
}
