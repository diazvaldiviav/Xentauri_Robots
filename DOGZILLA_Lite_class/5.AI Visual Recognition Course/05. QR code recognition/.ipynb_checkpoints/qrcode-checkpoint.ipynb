{
 "cells": [
  {
   "cell_type": "code",
   "execution_count": null,
   "id": "3bb8b1c5-7635-449f-beab-f70cdd84d6a1",
   "metadata": {},
   "outputs": [],
   "source": [
    "import cv2\n",
    "import os,socket,sys,time\n",
    "import spidev as SPI\n",
    "import xgoscreen.LCD_2inch as LCD_2inch\n",
    "from PIL import Image,ImageDraw,ImageFont\n",
    "from key import Button\n",
    "import numpy as np"
   ]
  },
  {
   "cell_type": "code",
   "execution_count": null,
   "id": "7076dfa5-a712-49a5-a200-9cef649fd63d",
   "metadata": {},
   "outputs": [],
   "source": [
    "\n",
    "mydisplay = LCD_2inch.LCD_2inch()\n",
    "mydisplay.clear()\n",
    "splash = Image.new(\"RGB\", (mydisplay.height, mydisplay.width ),\"black\")\n",
    "mydisplay.ShowImage(splash)\n",
    "button=Button()"
   ]
  },
  {
   "cell_type": "code",
   "execution_count": null,
   "id": "9f36b748",
   "metadata": {},
   "outputs": [],
   "source": [
    "# 导入组件 Importing Components\n",
    "import ipywidgets.widgets as widgets\n",
    "image_widget = widgets.Image(format='jpeg', width=320, height=240)  #设置摄像头显示组件  Set up the camera display component\n",
    "\n",
    "# 将BGR图像转换为JPEG格式的字节流 Convert a BGR image to a JPEG byte stream\n",
    "def bgr8_to_jpeg(value, quality=75):\n",
    "    return bytes(cv2.imencode('.jpg', value)[1])\n",
    "\n",
    "display(image_widget) #显示出来"
   ]
  },
  {
   "cell_type": "code",
   "execution_count": null,
   "id": "7ce7fee5",
   "metadata": {},
   "outputs": [],
   "source": [
    "#-----------------------COMMON INIT-----------------------\n",
    "import pyzbar.pyzbar as pyzbar\n",
    "\n",
    "def cv2AddChineseText(img, text, position, textColor=(0, 255, 0), textSize=30):\n",
    "    if (isinstance(img, np.ndarray)):  \n",
    "        img = Image.fromarray(cv2.cvtColor(img, cv2.COLOR_BGR2RGB))\n",
    "    draw = ImageDraw.Draw(img)\n",
    "    fontStyle = ImageFont.truetype(\n",
    "        \"/home/pi/model/msyh.ttc\", textSize, encoding=\"utf-8\")\n",
    "    draw.text(position, text, textColor, font=fontStyle)\n",
    "    return cv2.cvtColor(np.asarray(img), cv2.COLOR_RGB2BGR)\n",
    "\n",
    " \n",
    "font = cv2.FONT_HERSHEY_SIMPLEX \n",
    "cap=cv2.VideoCapture(0)\n",
    "cap.set(3,320)\n",
    "cap.set(4,240)\n",
    "if(not cap.isOpened()):\n",
    "    print(\"[camera.py:cam]:can't open this camera\")"
   ]
  },
  {
   "cell_type": "code",
   "execution_count": null,
   "id": "8241c9a5",
   "metadata": {},
   "outputs": [],
   "source": [
    "while(True):\n",
    "    ret, img = cap.read() \n",
    "    img_ROI_gray = cv2.cvtColor(img, cv2.COLOR_BGR2GRAY)\n",
    "    barcodes = pyzbar.decode(img_ROI_gray) \n",
    "    for barcode in barcodes:\n",
    "        barcodeData = barcode.data.decode(\"utf-8\")\n",
    "        barcodeType = barcode.type\n",
    "        text = \"{} ({})\".format(barcodeData, barcodeType)\n",
    "        img=cv2AddChineseText(img,text, (10, 30),(0, 255, 0), 30)\n",
    "        print(\"[INFO] Found {} barcode: {}\".format(barcodeType, barcodeData))\n",
    "\n",
    "    \n",
    "    b,g,r = cv2.split(img)\n",
    "    img = cv2.merge((r,g,b))\n",
    "    imgok = Image.fromarray(img)\n",
    "    mydisplay.ShowImage(imgok)\n",
    "\n",
    "    r,g,b = cv2.split(img)\n",
    "    img1 = cv2.merge((b,g,r))\n",
    "    image_widget.value = bgr8_to_jpeg(img1)\n",
    "\n",
    "    if (cv2.waitKey(1)) == ord('q'):\n",
    "        break\n",
    "    if button.press_b():\n",
    "        break"
   ]
  },
  {
   "cell_type": "code",
   "execution_count": null,
   "id": "a23fa02d",
   "metadata": {},
   "outputs": [],
   "source": [
    "cap.release()"
   ]
  },
  {
   "cell_type": "code",
   "execution_count": null,
   "id": "49d1dee1-a427-4335-8f65-620a0956f57c",
   "metadata": {},
   "outputs": [],
   "source": []
  }
 ],
 "metadata": {
  "kernelspec": {
   "display_name": "Python 3 (ipykernel)",
   "language": "python",
   "name": "python3"
  },
  "language_info": {
   "codemirror_mode": {
    "name": "ipython",
    "version": 3
   },
   "file_extension": ".py",
   "mimetype": "text/x-python",
   "name": "python",
   "nbconvert_exporter": "python",
   "pygments_lexer": "ipython3",
   "version": "3.11.2"
  },
  "vscode": {
   "interpreter": {
    "hash": "75e9df7e176b8fac597ec9907fd9d8af994374620e1bb86231401b54ec4688aa"
   }
  }
 },
 "nbformat": 4,
 "nbformat_minor": 5
}
