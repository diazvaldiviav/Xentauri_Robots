{
 "cells": [
  {
   "cell_type": "raw",
   "metadata": {},
   "source": [
    "@Copyright (C): 2015-2024, Shenzhen Yahboom Tech\n",
    "@Author: clhchan \n",
    "@Date: 2024-07-25"
   ]
  },
  {
   "cell_type": "code",
   "execution_count": 30,
   "metadata": {},
   "outputs": [],
   "source": [
    "# 导入库 Importing libraries\n",
    "import cv2\n",
    "import traitlets\n",
    "import ipywidgets.widgets as widgets\n",
    "from IPython.display import display\n",
    "import time\n",
    "# 线程功能操作库 Thread function operation library\n",
    "import threading\n",
    "import inspect\n",
    "import ctypes\n",
    "import HSV_Config\n",
    "#显示摄像头组件 Display camera components\n",
    "image_widget = widgets.Image(format='jpeg', width=320, height=240)"
   ]
  },
  {
   "cell_type": "code",
   "execution_count": 31,
   "metadata": {},
   "outputs": [],
   "source": [
    "import os,socket,sys,time\n",
    "import spidev as SPI\n",
    "import xgoscreen.LCD_2inch as LCD_2inch\n",
    "from PIL import Image,ImageDraw,ImageFont\n",
    "import numpy as np\n",
    "import mediapipe as mp\n",
    "from numpy import linalg\n",
    "from xgolib import XGO\n",
    "\n",
    "g_dog = XGO(port='/dev/ttyAMA0',version=\"xgolite\")"
   ]
  },
  {
   "cell_type": "code",
   "execution_count": 32,
   "metadata": {},
   "outputs": [],
   "source": [
    "#屏幕清除\n",
    "mydisplay = LCD_2inch.LCD_2inch()\n",
    "mydisplay.clear()\n",
    "splash = Image.new(\"RGB\", (mydisplay.height, mydisplay.width ),\"black\")\n",
    "mydisplay.ShowImage(splash)"
   ]
  },
  {
   "cell_type": "code",
   "execution_count": 33,
   "metadata": {},
   "outputs": [],
   "source": [
    "#bgr8转jpeg格式  bgr8 to jpeg format\n",
    "import enum\n",
    "def bgr8_to_jpeg(value, quality=75):\n",
    "    return bytes(cv2.imencode('.jpg', value)[1])"
   ]
  },
  {
   "cell_type": "code",
   "execution_count": 34,
   "metadata": {},
   "outputs": [],
   "source": [
    "def _async_raise(tid, exctype):\n",
    "    \"\"\"raises the exception, performs cleanup if needed\"\"\"\n",
    "    tid = ctypes.c_long(tid)\n",
    "    if not inspect.isclass(exctype):\n",
    "        exctype = type(exctype)\n",
    "    res = ctypes.pythonapi.PyThreadState_SetAsyncExc(tid, ctypes.py_object(exctype))\n",
    "    if res == 0:\n",
    "        raise ValueError(\"invalid thread id\")\n",
    "    elif res != 1:\n",
    "        # \"\"\"if it returns a number greater than one, you're in trouble,\n",
    "        # and you should call it again with exc=NULL to revert the effect\"\"\"\n",
    "        ctypes.pythonapi.PyThreadState_SetAsyncExc(tid, None)\n",
    "        \n",
    "def stop_thread(thread):\n",
    "    _async_raise(thread.ident, SystemExit)"
   ]
  },
  {
   "cell_type": "code",
   "execution_count": 35,
   "metadata": {},
   "outputs": [],
   "source": [
    "#USB摄像头打开方式 USB camera opening method\n",
    "\n",
    "image = cv2.VideoCapture(0)  #打开摄像头/dev/video0 Open the camera /dev/video0\n",
    "image.set(3, 320)\n",
    "image.set(4, 240)\n",
    "image.set(5, 30)  #设置帧率 Setting the frame rate\n",
    "# image.set(cv2.CAP_PROP_FOURCC, cv2.VideoWriter.fourcc('M', 'J', 'P', 'G'))\n",
    "# image.set(cv2.CAP_PROP_BRIGHTNESS, 62) #设置亮度 -64 - 64  0.0 Set Brightness -64 - 64 0.0\n",
    "# image.set(cv2.CAP_PROP_CONTRAST, 63) #设置对比度 -64 - 64  2.0 Set Contrast -64 - 64 2.0\n",
    "# image.set(cv2.CAP_PROP_EXPOSURE, 4800) #设置曝光值 1.0 - 5000  156.0 Set the exposure value 1.0 - 5000 156.0\n",
    "\n",
    "ret, frame = image.read()\n",
    "image_widget.value = bgr8_to_jpeg(frame)\n",
    "update_hsv = HSV_Config.update_hsv()\n"
   ]
  },
  {
   "cell_type": "markdown",
   "metadata": {},
   "source": [
    "### HSV值存储"
   ]
  },
  {
   "cell_type": "code",
   "execution_count": 36,
   "metadata": {},
   "outputs": [],
   "source": [
    "color_hsv  = {\"red\"   : ((0, 70, 72), (7, 255, 255)),\n",
    "              \"green\" : ((54, 109, 78), (77, 255, 255)),\n",
    "              \"blue\"  : ((92, 100, 62), (121, 251, 255)),\n",
    "              \"yellow\": ((26, 100, 91), (32, 255, 255))}"
   ]
  },
  {
   "cell_type": "code",
   "execution_count": 37,
   "metadata": {},
   "outputs": [],
   "source": [
    "def TEST():\n",
    "    detected_colors = []  # 用于存储检测到的颜色名称\n",
    "    unique_colorstemp=None\n",
    "    global color_hsv\n",
    "    display(image_widget)\n",
    "    while True:\n",
    "        ret, frame = image.read() #usb摄像头 usb camera\n",
    "        frame, binary,hsvname=update_hsv.get_contours(frame,color_hsv)\n",
    "        unique_colors = list(dict.fromkeys(hsvname))\n",
    "        # 根据列表的长度来决定如何分割字符串\n",
    "        num_colors = len(unique_colors)\n",
    "       \n",
    "        if(unique_colors!=unique_colorstemp):\n",
    "            unique_colorstemp=unique_colors.copy()\n",
    "        \n",
    "        # 实时传回图像数据进行显示 Real-time image data transmission for display\n",
    "        image_widget.value = bgr8_to_jpeg(frame)\n",
    "\n",
    "        #显示在小车的lcd屏幕上\n",
    "        b,g,r = cv2.split(frame)\n",
    "        img = cv2.merge((r,g,b))\n",
    "        imgok = Image.fromarray(img)\n",
    "        mydisplay.ShowImage(imgok)\n",
    "        "
   ]
  },
  {
   "cell_type": "code",
   "execution_count": 38,
   "metadata": {},
   "outputs": [
    {
     "data": {
      "application/vnd.jupyter.widget-view+json": {
       "model_id": "5d50a0a3ad9447f0a3b933487d169221",
       "version_major": 2,
       "version_minor": 0
      },
      "text/plain": [
       "Image(value=b'\\xff\\xd8\\xff\\xe0\\x00\\x10JFIF\\x00\\x01\\x01\\x00\\x00\\x01\\x00\\x01\\x00\\x00\\xff\\xdb\\x00C\\x00\\x02\\x01\\x0…"
      ]
     },
     "metadata": {},
     "output_type": "display_data"
    }
   ],
   "source": [
    "thread1 = threading.Thread(target=TEST)\n",
    "thread1.daemon = True\n",
    "thread1.start()"
   ]
  },
  {
   "cell_type": "code",
   "execution_count": 39,
   "metadata": {},
   "outputs": [],
   "source": [
    "stop_thread(thread1)"
   ]
  },
  {
   "cell_type": "code",
   "execution_count": 40,
   "metadata": {},
   "outputs": [],
   "source": [
    "#usb摄像头 usb camera\n",
    "#使用完成对象记住释放掉对象，不然下一个程序使用这个对象模块会被占用，导致无法使用\n",
    "#After using the object, remember to release the object, otherwise the object module will be occupied by the next program, making it unusable\n",
    "image.release()"
   ]
  },
  {
   "cell_type": "code",
   "execution_count": null,
   "metadata": {},
   "outputs": [],
   "source": []
  }
 ],
 "metadata": {
  "kernelspec": {
   "display_name": "Python 3 (ipykernel)",
   "language": "python",
   "name": "python3"
  },
  "language_info": {
   "codemirror_mode": {
    "name": "ipython",
    "version": 3
   },
   "file_extension": ".py",
   "mimetype": "text/x-python",
   "name": "python",
   "nbconvert_exporter": "python",
   "pygments_lexer": "ipython3",
   "version": "3.9.2"
  },
  "vscode": {
   "interpreter": {
    "hash": "75e9df7e176b8fac597ec9907fd9d8af994374620e1bb86231401b54ec4688aa"
   }
  }
 },
 "nbformat": 4,
 "nbformat_minor": 4
}
