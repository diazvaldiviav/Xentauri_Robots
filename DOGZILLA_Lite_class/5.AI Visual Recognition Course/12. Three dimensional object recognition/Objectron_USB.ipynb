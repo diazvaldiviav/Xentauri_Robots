{
 "cells": [
  {
   "cell_type": "code",
   "execution_count": null,
   "id": "3bb8b1c5-7635-449f-beab-f70cdd84d6a1",
   "metadata": {},
   "outputs": [],
   "source": [
    "import cv2\n",
    "import mediapipe as mp\n",
    "import time\n",
    "\n",
    "import os,socket,sys,time\n",
    "import spidev as SPI\n",
    "import xgoscreen.LCD_2inch as LCD_2inch\n",
    "from PIL import Image,ImageDraw,ImageFont\n",
    "from key import Button\n",
    "import math\n",
    "import numpy as np\n",
    "from xgolib import XGO"
   ]
  },
  {
   "cell_type": "code",
   "execution_count": null,
   "id": "8d43ba0c-15d1-48c0-80cd-39c9c36bd627",
   "metadata": {},
   "outputs": [],
   "source": [
    "dog = XGO(port='/dev/ttyAMA0',version=\"xgolite\")\n",
    "dog.reset()"
   ]
  },
  {
   "cell_type": "code",
   "execution_count": null,
   "id": "7076dfa5-a712-49a5-a200-9cef649fd63d",
   "metadata": {},
   "outputs": [],
   "source": [
    "mydisplay = LCD_2inch.LCD_2inch()\n",
    "mydisplay.clear()\n",
    "splash = Image.new(\"RGB\", (mydisplay.height, mydisplay.width ),\"black\")\n",
    "mydisplay.ShowImage(splash)\n",
    "button=Button()"
   ]
  },
  {
   "cell_type": "code",
   "execution_count": null,
   "id": "9f36b748",
   "metadata": {},
   "outputs": [],
   "source": [
    "# 导入组件 Importing Components\n",
    "import ipywidgets.widgets as widgets\n",
    "image_widget = widgets.Image(format='jpeg', width=320, height=240)  #设置摄像头显示组件  Set up the camera display component\n",
    "\n",
    "# 将BGR图像转换为JPEG格式的字节流 Convert a BGR image to a JPEG byte stream\n",
    "def bgr8_to_jpeg(value, quality=75):\n",
    "    return bytes(cv2.imencode('.jpg', value)[1])\n",
    "\n",
    "display(image_widget) #显示出来"
   ]
  },
  {
   "cell_type": "code",
   "execution_count": null,
   "id": "6b41d27e",
   "metadata": {},
   "outputs": [],
   "source": [
    "\n",
    "class Objectron:\n",
    "    def __init__(self, staticMode=False, maxObjects=5, minDetectionCon=0.5, minTrackingCon=0.99):\n",
    "        self.staticMode=staticMode\n",
    "        self.maxObjects=maxObjects\n",
    "        self.minDetectionCon=minDetectionCon\n",
    "        self.minTrackingCon=minTrackingCon\n",
    "        self.index=0\n",
    "        self.modelNames = ['Shoe', 'Chair', 'Cup', 'Camera']\n",
    "        self.mpObjectron = mp.solutions.objectron\n",
    "        self.mpDraw = mp.solutions.drawing_utils\n",
    "        self.mpobjectron = self.mpObjectron.Objectron(\n",
    "            self.staticMode, self.maxObjects, self.minDetectionCon, self.minTrackingCon, self.modelNames[self.index])\n",
    "\n",
    "    def findObjectron(self, frame):\n",
    "        cv2.putText(frame, self.modelNames[self.index], (int(frame.shape[1] / 2) + 30, 30),\n",
    "                   cv2.FONT_HERSHEY_SIMPLEX, 0.9, (0, 0, 255), 3)\n",
    "        img_RGB = cv2.cvtColor(frame, cv2.COLOR_BGR2RGB)\n",
    "        results = self.mpobjectron.process(img_RGB)\n",
    "        if results.detected_objects:\n",
    "            for id, detection in enumerate(results.detected_objects):\n",
    "                self.mpDraw.draw_landmarks(frame, detection.landmarks_2d, self.mpObjectron.BOX_CONNECTIONS)\n",
    "                self.mpDraw.draw_axis(frame, detection.rotation, detection.translation)\n",
    "        return frame\n",
    "\n",
    "    def configUP(self):\n",
    "        self.index += 1\n",
    "        if self.index>=4:self.index=0\n",
    "        self.mpobjectron = self.mpObjectron.Objectron(\n",
    "            self.staticMode, self.maxObjects, self.minDetectionCon, self.minTrackingCon, self.modelNames[self.index])\n"
   ]
  },
  {
   "cell_type": "code",
   "execution_count": null,
   "id": "394c5c04",
   "metadata": {},
   "outputs": [],
   "source": [
    "capture = cv2.VideoCapture(0)\n",
    "capture.set(6, cv2.VideoWriter.fourcc('M', 'J', 'P', 'G'))\n",
    "capture.set(cv2.CAP_PROP_FRAME_WIDTH, 320)\n",
    "capture.set(cv2.CAP_PROP_FRAME_HEIGHT, 240)\n",
    "print(\"capture get FPS : \", capture.get(cv2.CAP_PROP_FPS))\n",
    "pTime = cTime = 0\n",
    "objectron = Objectron()\n",
    "while capture.isOpened():\n",
    "    ret, frame = capture.read()\n",
    "    # frame = cv.flip(frame, 1)\n",
    "    action = cv2.waitKey(1) & 0xFF\n",
    "    if action == ord('q'): break\n",
    "    if action == ord('f') or action == ord('F') : objectron.configUP()\n",
    "    \n",
    "    # 按屏幕的按键进行切换\n",
    "    if button.press_d():\n",
    "        objectron.configUP()\n",
    "\n",
    "    frame = objectron.findObjectron(frame)\n",
    "    cTime = time.time()\n",
    "    fps = 1 / (cTime - pTime)\n",
    "    pTime = cTime\n",
    "    text = \"FPS : \" + str(int(fps))\n",
    "    cv2.putText(frame, text, (20, 30), cv2.FONT_HERSHEY_SIMPLEX, 0.8, (0, 0, 255), 2)\n",
    "    #cv2.imshow('frame', frame)\n",
    "    image_widget.value = bgr8_to_jpeg(frame)\n",
    "\n",
    "    #把画面显示在lcd屏上\n",
    "    b, g, r = cv2.split(frame)\n",
    "    image = cv2.merge((r, g, b))\n",
    "    imgok = Image.fromarray(image)\n",
    "    mydisplay.ShowImage(imgok)\n"
   ]
  },
  {
   "cell_type": "code",
   "execution_count": null,
   "id": "a23fa02d",
   "metadata": {},
   "outputs": [],
   "source": [
    "capture.release()\n",
    "cv2.destroyAllWindows()\n",
    "dog.reset()\n",
    "del dog"
   ]
  },
  {
   "cell_type": "code",
   "execution_count": null,
   "id": "49d1dee1-a427-4335-8f65-620a0956f57c",
   "metadata": {},
   "outputs": [],
   "source": []
  }
 ],
 "metadata": {
  "kernelspec": {
   "display_name": "Python 3 (ipykernel)",
   "language": "python",
   "name": "python3"
  },
  "language_info": {
   "codemirror_mode": {
    "name": "ipython",
    "version": 3
   },
   "file_extension": ".py",
   "mimetype": "text/x-python",
   "name": "python",
   "nbconvert_exporter": "python",
   "pygments_lexer": "ipython3",
   "version": "3.11.2"
  },
  "vscode": {
   "interpreter": {
    "hash": "75e9df7e176b8fac597ec9907fd9d8af994374620e1bb86231401b54ec4688aa"
   }
  }
 },
 "nbformat": 4,
 "nbformat_minor": 5
}
