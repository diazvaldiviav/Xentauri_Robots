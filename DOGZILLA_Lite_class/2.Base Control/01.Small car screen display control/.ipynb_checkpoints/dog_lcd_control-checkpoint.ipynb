{
 "cells": [
  {
   "cell_type": "code",
   "execution_count": null,
   "id": "3bb8b1c5-7635-449f-beab-f70cdd84d6a1",
   "metadata": {},
   "outputs": [],
   "source": [
    "#导入xgoedu\n",
    "from xgoedu import XGOEDU \n",
    "#实例化edu\n",
    "XGO_edu = XGOEDU()"
   ]
  },
  {
   "cell_type": "code",
   "execution_count": null,
   "id": "a0caf55c-bbe4-4ba8-98e9-4e528f3e9ed2",
   "metadata": {},
   "outputs": [],
   "source": [
    "#画直线\n",
    "XGO_edu.lcd_clear()\n",
    "XGO_edu.lcd_line(80,80,150,150,color=(255,0,0),width=2)"
   ]
  },
  {
   "cell_type": "code",
   "execution_count": null,
   "id": "be60ee39",
   "metadata": {},
   "outputs": [],
   "source": [
    "#画圆\n",
    "XGO_edu.lcd_clear()\n",
    "XGO_edu.lcd_round(30,30,10,color=(255,0,0),width=2)"
   ]
  },
  {
   "cell_type": "code",
   "execution_count": null,
   "id": "07935cc4",
   "metadata": {},
   "outputs": [],
   "source": [
    "#画矩形\n",
    "XGO_edu.lcd_clear()\n",
    "XGO_edu.lcd_rectangle(20,20,100,100,fill=None,outline=(255,0,0),width=2)"
   ]
  },
  {
   "cell_type": "code",
   "execution_count": null,
   "id": "0e8acd01",
   "metadata": {},
   "outputs": [],
   "source": [
    "#显示文字\n",
    "XGO_edu.lcd_clear()\n",
    "XGO_edu.lcd_text(50,50,'hello',color=(255,0,0),fontsize=50)"
   ]
  },
  {
   "cell_type": "code",
   "execution_count": null,
   "id": "54a5f7e1",
   "metadata": {},
   "outputs": [],
   "source": [
    "#显示图片 需要把图片放在/home/pi/xgoPictures 目录下，并且大小为320*240\n",
    "XGO_edu.lcd_picture(\"yahboom.jpg\")"
   ]
  },
  {
   "cell_type": "code",
   "execution_count": null,
   "id": "403abe8d",
   "metadata": {},
   "outputs": [],
   "source": [
    "#清除屏幕\n",
    "XGO_edu.lcd_clear()"
   ]
  },
  {
   "cell_type": "code",
   "execution_count": null,
   "id": "4743943d-1e8d-45e2-89ea-9891e11b1c61",
   "metadata": {},
   "outputs": [],
   "source": [
    "del XGO_edu"
   ]
  },
  {
   "cell_type": "code",
   "execution_count": null,
   "id": "8bb82a76-8f0e-44c5-9b9b-81329e70be7a",
   "metadata": {},
   "outputs": [],
   "source": []
  }
 ],
 "metadata": {
  "kernelspec": {
   "display_name": "Python 3 (ipykernel)",
   "language": "python",
   "name": "python3"
  },
  "language_info": {
   "codemirror_mode": {
    "name": "ipython",
    "version": 3
   },
   "file_extension": ".py",
   "mimetype": "text/x-python",
   "name": "python",
   "nbconvert_exporter": "python",
   "pygments_lexer": "ipython3",
   "version": "3.9.2"
  }
 },
 "nbformat": 4,
 "nbformat_minor": 5
}
