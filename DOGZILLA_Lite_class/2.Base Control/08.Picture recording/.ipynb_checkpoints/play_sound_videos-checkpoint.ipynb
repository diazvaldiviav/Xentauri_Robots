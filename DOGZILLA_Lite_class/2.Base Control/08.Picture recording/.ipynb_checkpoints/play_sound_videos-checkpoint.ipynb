{
 "cells": [
  {
   "cell_type": "code",
   "execution_count": null,
   "id": "3bb8b1c5-7635-449f-beab-f70cdd84d6a1",
   "metadata": {},
   "outputs": [],
   "source": [
    "#导入xgoedu #Import xguodu\n",
    "from xgoedu import XGOEDU \n",
    "#实例化edu #Instantiate edu\n",
    "XGO_edu = XGOEDU()"
   ]
  },
  {
   "cell_type": "code",
   "execution_count": null,
   "id": "2f91a250",
   "metadata": {},
   "outputs": [],
   "source": [
    "import os\n",
    "import threading\n",
    "import inspect\n",
    "import ctypes\n",
    "video_Path = '/home/pi/xgoVideos/myvidoes.mp4'\n",
    "sounds_Path = '/home/pi/xgoMusic/myrecord.wav'\n"
   ]
  },
  {
   "cell_type": "code",
   "execution_count": null,
   "id": "6e1fadbd",
   "metadata": {},
   "outputs": [],
   "source": [
    "# 关闭线程  stop thread\n",
    "def _async_raise(tid, exctype):\n",
    "    \"\"\"raises the exception, performs cleanup if needed\"\"\"\n",
    "    tid = ctypes.c_long(tid)\n",
    "    if not inspect.isclass(exctype):\n",
    "        exctype = type(exctype)\n",
    "    res = ctypes.pythonapi.PyThreadState_SetAsyncExc(tid, ctypes.py_object(exctype))\n",
    "    if res == 0:\n",
    "        raise ValueError(\"invalid thread id\")\n",
    "    elif res != 1:\n",
    "        # \"\"\"if it returns a number greater than one, you're in trouble,\n",
    "        # and you should call it again with exc=NULL to revert the effect\"\"\"\n",
    "        ctypes.pythonapi.PyThreadState_SetAsyncExc(tid, None)\n",
    "        \n",
    "def stop_thread(thread):\n",
    "    _async_raise(thread.ident, SystemExit)"
   ]
  },
  {
   "cell_type": "code",
   "execution_count": null,
   "id": "65eb17b5",
   "metadata": {},
   "outputs": [],
   "source": [
    "#录制\n",
    "\n",
    "def revideos():\n",
    "    XGO_edu.xgoVideoRecord(filename=\"myvidoes\",seconds=5)\n",
    "def record():     \n",
    "    XGO_edu.xgoAudioRecord(filename=\"myrecord\",seconds=5) \n",
    "\n",
    "\n",
    "thread1 = threading.Thread(target=revideos)\n",
    "thread1.setDaemon(True)\n",
    "thread1.start()\n",
    "record()\n",
    "\n",
    "\n"
   ]
  },
  {
   "cell_type": "code",
   "execution_count": null,
   "id": "203da6bb-7dee-40f6-902e-b7c864d34785",
   "metadata": {},
   "outputs": [],
   "source": [
    "XGO_edu.xgoCamera(False)   #关闭摄像头 #Turn off the camera\n",
    "\n",
    "#合成\n",
    "cmd = 'ffmpeg -y -i '+video_Path+' -i '+sounds_Path +' -c:v copy -c:a aac -strict experimental -shortest /home/pi/xgoVideos/myoutput.mp4'\n",
    "#print(cmd)\n",
    "os.system(cmd)"
   ]
  },
  {
   "cell_type": "code",
   "execution_count": null,
   "id": "403abe8d",
   "metadata": {},
   "outputs": [],
   "source": [
    "#会播放到/home/pi/xgoVideos的文件下\n",
    "#It will play to the file/home/pi/xgoVideos\n",
    "XGO_edu.xgoVideo(filename=\"myoutput.mp4\")   "
   ]
  },
  {
   "cell_type": "code",
   "execution_count": null,
   "id": "4743943d-1e8d-45e2-89ea-9891e11b1c61",
   "metadata": {},
   "outputs": [],
   "source": [
    "XGO_edu.xgoCamera(False)   #关闭摄像头 #Turn off the camera\n",
    "del XGO_edu"
   ]
  },
  {
   "cell_type": "code",
   "execution_count": null,
   "id": "f108607a-ae51-4197-98b3-b632fbb552f1",
   "metadata": {},
   "outputs": [],
   "source": []
  }
 ],
 "metadata": {
  "kernelspec": {
   "display_name": "Python 3 (ipykernel)",
   "language": "python",
   "name": "python3"
  },
  "language_info": {
   "codemirror_mode": {
    "name": "ipython",
    "version": 3
   },
   "file_extension": ".py",
   "mimetype": "text/x-python",
   "name": "python",
   "nbconvert_exporter": "python",
   "pygments_lexer": "ipython3",
   "version": "3.9.2"
  }
 },
 "nbformat": 4,
 "nbformat_minor": 5
}
