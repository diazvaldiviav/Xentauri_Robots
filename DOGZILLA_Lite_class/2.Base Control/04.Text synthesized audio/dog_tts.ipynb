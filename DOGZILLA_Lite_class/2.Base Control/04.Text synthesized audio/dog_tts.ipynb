{
 "cells": [
  {
   "cell_type": "code",
   "execution_count": 1,
   "id": "3bb8b1c5-7635-449f-beab-f70cdd84d6a1",
   "metadata": {},
   "outputs": [],
   "source": [
    "#导入xgoedu #Import xguodu\n",
    "from xgoedu import XGOEDU \n",
    "#实例化edu #Instantiate edu\n",
    "XGO_edu = XGOEDU()"
   ]
  },
  {
   "cell_type": "code",
   "execution_count": 8,
   "id": "403abe8d",
   "metadata": {},
   "outputs": [
    {
     "name": "stdout",
     "output_type": "stream",
     "text": [
      "nice+to+meet+you\n",
      "test on Web Browserhttp://tsn.baidu.com/text2audio?tok=24.f348f2462b0c163e4ddbcf7f34856ad5.2592000.1749635330.282335-35511852&tex=nice%2Bto%2Bmeet%2Byou&per=0&spd=5&pit=5&vol=5&aue=6&cuid=123456PYTHON&lan=zh&ctp=1\n",
      "result saved as :result.wav\n",
      "MPlayer 1.4 (Debian), built with gcc-10 (C) 2000-2019 MPlayer Team\n",
      "\n",
      "Playing /home/pi/xgoMusic/result.wav.\n",
      "libavformat version 58.45.100 (external)\n",
      "Audio only file format detected.\n",
      "Load subtitles in /home/pi/xgoMusic/\n",
      "==========================================================================\n",
      "Opening audio decoder: [pcm] Uncompressed PCM audio decoder\n",
      "AUDIO: 16000 Hz, 1 ch, s16le, 256.0 kbit/100.00% (ratio: 32000->32000)\n",
      "Selected audio codec: [pcm] afm: pcm (Uncompressed PCM)\n",
      "==========================================================================\n",
      "AO: [pulse] 16000Hz 1ch s16le (2 bytes per sample)\n",
      "Video: no video\n",
      "Starting playback...\n",
      "A:   1.3 (01.3) of 1.0 (01.0)  0.0% \u001b[J\u001b[J\n",
      "\n",
      "\n",
      "Exiting... (End of file)\n"
     ]
    }
   ],
   "source": [
    "XGO_edu.SpeechSynthesis(\"nice to meet you\") #chinese   生成的文件在 /home/pi/xgoMusic/result.wav (需要联网)\n",
    "#XGO_edu.SpeechSynthesis(\"Hello,Hello\") #English The generated file is in /home/pi/xgoMusic/result.wav (Requires network)"
   ]
  },
  {
   "cell_type": "code",
   "execution_count": null,
   "id": "4743943d-1e8d-45e2-89ea-9891e11b1c61",
   "metadata": {},
   "outputs": [],
   "source": [
    "del XGO_edu"
   ]
  }
 ],
 "metadata": {
  "kernelspec": {
   "display_name": "Python 3 (ipykernel)",
   "language": "python",
   "name": "python3"
  },
  "language_info": {
   "codemirror_mode": {
    "name": "ipython",
    "version": 3
   },
   "file_extension": ".py",
   "mimetype": "text/x-python",
   "name": "python",
   "nbconvert_exporter": "python",
   "pygments_lexer": "ipython3",
   "version": "3.9.2"
  }
 },
 "nbformat": 4,
 "nbformat_minor": 5
}
