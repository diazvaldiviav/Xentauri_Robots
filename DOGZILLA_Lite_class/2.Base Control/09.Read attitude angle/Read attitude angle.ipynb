{
 "cells": [
  {
   "cell_type": "code",
   "execution_count": 7,
   "metadata": {
    "vscode": {
     "languageId": "plaintext"
    }
   },
   "outputs": [],
   "source": [
    "from xgolib import XGO\n",
    "import time\n",
    "import ipywidgets as widgets\n",
    "from IPython.display import display\n",
    "from ipywidgets import interact, widgets, Button, VBox, IntSlider\n",
    "\n",
    "dog = XGO(\"xgolite\")\n"
   ]
  },
  {
   "cell_type": "code",
   "execution_count": 8,
   "metadata": {
    "vscode": {
     "languageId": "plaintext"
    }
   },
   "outputs": [
    {
     "name": "stdout",
     "output_type": "stream",
     "text": [
      "yaw -2.79\n",
      "roll -0.09\n",
      "pitch -0.32\n",
      "yaw -2.79\n",
      "roll -0.03\n",
      "pitch -0.32\n",
      "yaw -2.79\n",
      "roll -0.03\n",
      "pitch -0.35\n",
      "yaw -2.79\n",
      "roll -0.06\n",
      "pitch -0.31\n",
      "yaw -2.79\n",
      "roll -0.11\n",
      "pitch -0.41\n",
      "yaw -2.79\n",
      "roll -0.03\n",
      "pitch -0.47\n",
      "yaw -2.71\n",
      "roll -0.09\n",
      "pitch -0.34\n",
      "yaw -2.71\n",
      "roll 0.13\n",
      "pitch -0.03\n",
      "yaw 4.54\n",
      "roll 1.09\n",
      "pitch 0.8\n",
      "yaw 4.26\n",
      "roll 0.11\n",
      "pitch -0.28\n",
      "yaw 4.26\n",
      "roll 0.04\n",
      "pitch -0.25\n",
      "yaw 3.48\n",
      "roll -0.43\n",
      "pitch -0.39\n",
      "yaw -0.98\n",
      "roll -0.57\n",
      "pitch -0.4\n",
      "yaw -2.69\n",
      "roll -0.19\n",
      "pitch -0.38\n",
      "yaw -2.41\n",
      "roll -0.17\n",
      "pitch -0.24\n",
      "yaw -2.41\n",
      "roll -0.29\n",
      "pitch -0.13\n",
      "yaw -2.41\n",
      "roll 0.08\n",
      "pitch -0.39\n",
      "yaw -4.54\n",
      "roll 0.17\n",
      "pitch -0.45\n",
      "yaw -4.48\n",
      "roll -0.33\n",
      "pitch -0.29\n",
      "yaw -4.48\n",
      "roll -0.16\n",
      "pitch -0.34\n",
      "yaw -4.48\n",
      "roll -0.15\n",
      "pitch -0.21\n",
      "yaw -4.23\n",
      "roll -0.19\n",
      "pitch -0.23\n",
      "yaw -4.23\n",
      "roll -0.14\n",
      "pitch -0.28\n",
      "yaw -4.23\n",
      "roll -0.07\n",
      "pitch -0.27\n",
      "yaw -4.23\n",
      "roll -0.15\n",
      "pitch -0.23\n",
      "yaw -4.23\n",
      "roll -0.1\n",
      "pitch -0.26\n",
      "yaw -4.23\n",
      "roll -0.1\n",
      "pitch -0.23\n",
      "yaw -4.23\n",
      "roll -0.06\n",
      "pitch -0.4\n",
      "yaw -4.23\n",
      "roll -0.06\n",
      "pitch -0.33\n",
      "yaw -4.23\n",
      "roll -0.05\n",
      "pitch -0.35\n",
      "yaw -4.23\n",
      "roll -0.06\n",
      "pitch -0.27\n",
      "yaw -4.23\n",
      "roll -0.11\n",
      "pitch -0.3\n",
      "yaw -4.23\n",
      "roll -0.1\n",
      "pitch -0.39\n",
      "yaw -4.23\n",
      "roll -0.08\n",
      "pitch -0.32\n"
     ]
    },
    {
     "ename": "KeyboardInterrupt",
     "evalue": "",
     "output_type": "error",
     "traceback": [
      "\u001b[0;31m---------------------------------------------------------------------------\u001b[0m",
      "\u001b[0;31mKeyboardInterrupt\u001b[0m                         Traceback (most recent call last)",
      "Cell \u001b[0;32mIn[8], line 5\u001b[0m\n\u001b[1;32m      3\u001b[0m \u001b[38;5;28mprint\u001b[39m(\u001b[38;5;124m'\u001b[39m\u001b[38;5;124mroll\u001b[39m\u001b[38;5;124m'\u001b[39m,dog\u001b[38;5;241m.\u001b[39mread_roll())\n\u001b[1;32m      4\u001b[0m \u001b[38;5;28mprint\u001b[39m(\u001b[38;5;124m'\u001b[39m\u001b[38;5;124mpitch\u001b[39m\u001b[38;5;124m'\u001b[39m,dog\u001b[38;5;241m.\u001b[39mread_pitch())\n\u001b[0;32m----> 5\u001b[0m \u001b[43mtime\u001b[49m\u001b[38;5;241;43m.\u001b[39;49m\u001b[43msleep\u001b[49m\u001b[43m(\u001b[49m\u001b[38;5;241;43m1\u001b[39;49m\u001b[43m)\u001b[49m\n",
      "\u001b[0;31mKeyboardInterrupt\u001b[0m: "
     ]
    }
   ],
   "source": [
    "while True:\n",
    "    print('yaw',dog.read_yaw())\n",
    "    print('roll',dog.read_roll())\n",
    "    print('pitch',dog.read_pitch())\n",
    "    time.sleep(1)\n"
   ]
  },
  {
   "cell_type": "code",
   "execution_count": null,
   "metadata": {},
   "outputs": [],
   "source": []
  }
 ],
 "metadata": {
  "kernelspec": {
   "display_name": "Python 3 (ipykernel)",
   "language": "python",
   "name": "python3"
  },
  "language_info": {
   "codemirror_mode": {
    "name": "ipython",
    "version": 3
   },
   "file_extension": ".py",
   "mimetype": "text/x-python",
   "name": "python",
   "nbconvert_exporter": "python",
   "pygments_lexer": "ipython3",
   "version": "3.9.2"
  }
 },
 "nbformat": 4,
 "nbformat_minor": 4
}
