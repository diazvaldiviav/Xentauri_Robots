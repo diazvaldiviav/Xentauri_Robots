{
 "cells": [
  {
   "cell_type": "code",
   "execution_count": 12,
   "id": "3bb8b1c5-7635-449f-beab-f70cdd84d6a1",
   "metadata": {},
   "outputs": [],
   "source": [
    "#导入xgoedu #Import xguodu\n",
    "from xgoedu import XGOEDU \n",
    "#实例化edu #Instantiate edu\n",
    "XGO_edu = XGOEDU()"
   ]
  },
  {
   "cell_type": "code",
   "execution_count": 13,
   "id": "403abe8d",
   "metadata": {},
   "outputs": [
    {
     "name": "stdout",
     "output_type": "stream",
     "text": [
      "/home/pi/xgoVideos/myvidoes.mp4\n",
      "15.0\n",
      "MPlayer 1.4 (Debian), built with gcc-10 (C) 2000-2019 MPlayer Team\n",
      "\n",
      "Playing /home/pi/xgoVideos/myvidoes.mp4.\n",
      "libavformat version 58.45.100 (external)\n",
      "libavformat file format detected.\n",
      "[mov,mp4,m4a,3gp,3g2,mj2 @ 0x7f96de7028]Protocol name not provided, cannot determine if input is local or a network protocol, buffers and access patterns cannot be configured optimally without knowing the protocol\n",
      "[lavf] stream 0: video (mpeg4), -vid 0\n",
      "\n",
      "\n",
      "Exiting... (End of file)\n"
     ]
    },
    {
     "name": "stderr",
     "output_type": "stream",
     "text": [
      "do_connect: could not connect to socket\n",
      "connect: No such file or directory\n",
      "Failed to open LIRC support. You will not be able to use your remote control.\n",
      "No stream found.\n"
     ]
    }
   ],
   "source": [
    "#会播放到/home/pi/xgoVideos的文件下\n",
    "#It will play to the file/home/pi/xgoVideos\n",
    "XGO_edu.xgoVideo(filename=\"myvidoes.mp4\")   "
   ]
  },
  {
   "cell_type": "code",
   "execution_count": 7,
   "id": "4743943d-1e8d-45e2-89ea-9891e11b1c61",
   "metadata": {},
   "outputs": [],
   "source": [
    "XGO_edu.xgoCamera(False)   #关闭摄像头 #Turn off the camera\n",
    "del XGO_edu"
   ]
  },
  {
   "cell_type": "code",
   "execution_count": null,
   "id": "c03c2821-d789-40ec-96ce-d359e55c7ba8",
   "metadata": {},
   "outputs": [],
   "source": []
  }
 ],
 "metadata": {
  "kernelspec": {
   "display_name": "Python 3 (ipykernel)",
   "language": "python",
   "name": "python3"
  },
  "language_info": {
   "codemirror_mode": {
    "name": "ipython",
    "version": 3
   },
   "file_extension": ".py",
   "mimetype": "text/x-python",
   "name": "python",
   "nbconvert_exporter": "python",
   "pygments_lexer": "ipython3",
   "version": "3.9.2"
  }
 },
 "nbformat": 4,
 "nbformat_minor": 5
}
