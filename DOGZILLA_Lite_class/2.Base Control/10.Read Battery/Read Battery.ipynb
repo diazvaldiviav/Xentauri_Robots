{
 "cells": [
  {
   "cell_type": "code",
   "execution_count": 3,
   "metadata": {
    "vscode": {
     "languageId": "plaintext"
    }
   },
   "outputs": [],
   "source": [
    "from xgolib import XGO\n",
    "import time\n",
    "import ipywidgets as widgets\n",
    "from IPython.display import display\n",
    "from ipywidgets import interact, widgets, Button, VBox, IntSlider\n",
    "\n",
    "dog = XGO(\"xgolite\")\n"
   ]
  },
  {
   "cell_type": "code",
   "execution_count": 5,
   "metadata": {
    "vscode": {
     "languageId": "plaintext"
    }
   },
   "outputs": [
    {
     "name": "stdout",
     "output_type": "stream",
     "text": [
      "battery: 81\n",
      "battery: 81\n",
      "battery: 81\n",
      "battery: 81\n",
      "battery: 82\n",
      "battery: 81\n",
      "battery: 82\n",
      "battery: 81\n",
      "battery: 82\n",
      "battery: 82\n",
      "battery: 82\n",
      "battery: 81\n",
      "battery: 83\n",
      "battery: 81\n",
      "battery: 82\n",
      "battery: 82\n",
      "battery: 81\n",
      "battery: 81\n",
      "battery: 81\n",
      "battery: 81\n",
      "battery: 81\n",
      "battery: 82\n",
      "battery: 82\n",
      "battery: 82\n",
      "battery: 81\n",
      "battery: 81\n",
      "battery: 81\n",
      "battery: 81\n",
      "battery: 81\n",
      "battery: 82\n",
      "battery: 81\n",
      "battery: 81\n",
      "battery: 81\n",
      "battery: 81\n",
      "battery: 81\n",
      "battery: 82\n",
      "battery: 81\n",
      "battery: 82\n",
      "battery: 81\n",
      "battery: 81\n",
      "battery: 82\n",
      "battery: 81\n",
      "battery: 81\n",
      "battery: 81\n",
      "battery: 82\n",
      "battery: 81\n",
      "battery: 82\n",
      "battery: 81\n",
      "battery: 80\n",
      "battery: 81\n",
      "battery: 81\n",
      "battery: 83\n",
      "battery: 82\n",
      "battery: 81\n",
      "battery: 81\n",
      "battery: 81\n",
      "battery: 80\n",
      "battery: 81\n",
      "battery: 80\n"
     ]
    },
    {
     "ename": "KeyboardInterrupt",
     "evalue": "",
     "output_type": "error",
     "traceback": [
      "\u001b[0;31m---------------------------------------------------------------------------\u001b[0m",
      "\u001b[0;31mKeyboardInterrupt\u001b[0m                         Traceback (most recent call last)",
      "Cell \u001b[0;32mIn[5], line 3\u001b[0m\n\u001b[1;32m      1\u001b[0m \u001b[38;5;28;01mwhile\u001b[39;00m \u001b[38;5;28;01mTrue\u001b[39;00m:\n\u001b[1;32m      2\u001b[0m     \u001b[38;5;28mprint\u001b[39m(\u001b[38;5;124m\"\u001b[39m\u001b[38;5;124mbattery:\u001b[39m\u001b[38;5;124m\"\u001b[39m,dog\u001b[38;5;241m.\u001b[39mread_battery())\n\u001b[0;32m----> 3\u001b[0m     \u001b[43mtime\u001b[49m\u001b[38;5;241;43m.\u001b[39;49m\u001b[43msleep\u001b[49m\u001b[43m(\u001b[49m\u001b[38;5;241;43m1\u001b[39;49m\u001b[43m)\u001b[49m\n",
      "\u001b[0;31mKeyboardInterrupt\u001b[0m: "
     ]
    }
   ],
   "source": [
    "while True:\n",
    "    print(\"battery:\",dog.read_battery())\n",
    "    time.sleep(1)\n"
   ]
  },
  {
   "cell_type": "code",
   "execution_count": null,
   "metadata": {},
   "outputs": [],
   "source": []
  }
 ],
 "metadata": {
  "kernelspec": {
   "display_name": "Python 3 (ipykernel)",
   "language": "python",
   "name": "python3"
  },
  "language_info": {
   "codemirror_mode": {
    "name": "ipython",
    "version": 3
   },
   "file_extension": ".py",
   "mimetype": "text/x-python",
   "name": "python",
   "nbconvert_exporter": "python",
   "pygments_lexer": "ipython3",
   "version": "3.9.2"
  }
 },
 "nbformat": 4,
 "nbformat_minor": 4
}
