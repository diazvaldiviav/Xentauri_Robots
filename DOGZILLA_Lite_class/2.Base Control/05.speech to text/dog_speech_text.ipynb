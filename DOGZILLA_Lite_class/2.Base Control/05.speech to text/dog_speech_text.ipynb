{
 "cells": [
  {
   "cell_type": "code",
   "execution_count": 1,
   "id": "3bb8b1c5-7635-449f-beab-f70cdd84d6a1",
   "metadata": {},
   "outputs": [],
   "source": [
    "#导入xgoedu #Import xguodu\n",
    "from xgoedu import XGOEDU \n",
    "#实例化edu #Instantiate edu\n",
    "XGO_edu = XGOEDU()"
   ]
  },
  {
   "cell_type": "code",
   "execution_count": 5,
   "id": "403abe8d",
   "metadata": {},
   "outputs": [
    {
     "name": "stdout",
     "output_type": "stream",
     "text": [
      "sudo arecord -d 5 -f S32_LE -r 8000 -c 1 -t wav /home/pi/xgoMusic/recog.wav\n"
     ]
    },
    {
     "name": "stderr",
     "output_type": "stream",
     "text": [
      "Recording WAVE '/home/pi/xgoMusic/recog.wav' : Signed 32 bit Little Endian, Rate 8000 Hz, Mono\n"
     ]
    },
    {
     "name": "stdout",
     "output_type": "stream",
     "text": [
      "Request time cost 0.524925\n"
     ]
    },
    {
     "data": {
      "text/plain": [
       "'不能给你发信。'"
      ]
     },
     "execution_count": 5,
     "metadata": {},
     "output_type": "execute_result"
    }
   ],
   "source": [
    "#识别说话的声音（需要网络） #Identify the voice of speech  (Requires network)\n",
    "XGO_edu.SpeechRecognition(seconds=5)"
   ]
  },
  {
   "cell_type": "code",
   "execution_count": 6,
   "id": "4743943d-1e8d-45e2-89ea-9891e11b1c61",
   "metadata": {},
   "outputs": [],
   "source": [
    "del XGO_edu"
   ]
  },
  {
   "cell_type": "code",
   "execution_count": null,
   "id": "ebf3e1e5-6030-4cb8-a77b-532c6e7f1c99",
   "metadata": {},
   "outputs": [],
   "source": []
  }
 ],
 "metadata": {
  "kernelspec": {
   "display_name": "Python 3 (ipykernel)",
   "language": "python",
   "name": "python3"
  },
  "language_info": {
   "codemirror_mode": {
    "name": "ipython",
    "version": 3
   },
   "file_extension": ".py",
   "mimetype": "text/x-python",
   "name": "python",
   "nbconvert_exporter": "python",
   "pygments_lexer": "ipython3",
   "version": "3.9.2"
  }
 },
 "nbformat": 4,
 "nbformat_minor": 5
}
