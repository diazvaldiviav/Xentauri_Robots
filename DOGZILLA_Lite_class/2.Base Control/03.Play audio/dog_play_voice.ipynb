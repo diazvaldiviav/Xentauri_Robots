{
 "cells": [
  {
   "cell_type": "code",
   "execution_count": 7,
   "id": "3bb8b1c5-7635-449f-beab-f70cdd84d6a1",
   "metadata": {},
   "outputs": [],
   "source": [
    "#导入xgoedu #Import xguodu\n",
    "from xgoedu import XGOEDU \n",
    "#实例化edu #Instantiate edu\n",
    "XGO_edu = XGOEDU()"
   ]
  },
  {
   "cell_type": "code",
   "execution_count": 8,
   "id": "403abe8d",
   "metadata": {},
   "outputs": [
    {
     "name": "stdout",
     "output_type": "stream",
     "text": [
      "MPlayer 1.4 (Debian), built with gcc-10 (C) 2000-2019 MPlayer Team\n",
      "\n",
      "Playing /home/pi/xgoMusic/myrecord.wav.\n",
      "libavformat version 58.45.100 (external)\n",
      "Audio only file format detected.\n",
      "Load subtitles in /home/pi/xgoMusic/\n",
      "==========================================================================\n",
      "Opening audio decoder: [pcm] Uncompressed PCM audio decoder\n",
      "AUDIO: 8000 Hz, 1 ch, s32le, 256.0 kbit/100.00% (ratio: 32000->32000)\n",
      "Selected audio codec: [pcm] afm: pcm (Uncompressed PCM)\n",
      "==========================================================================\n"
     ]
    },
    {
     "name": "stderr",
     "output_type": "stream",
     "text": [
      "AO: [pulse] Init failed: Connection refused\n",
      "Failed to initialize audio driver 'pulse'\n"
     ]
    },
    {
     "name": "stdout",
     "output_type": "stream",
     "text": [
      "AO: [alsa] 48000Hz 1ch s32le (4 bytes per sample)\n",
      "Video: no video\n",
      "Starting playback...\n",
      "A:   4.8 (04.7) of 5.0 (05.0)  0.5% \u001b[J\n",
      "\n",
      "\n",
      "Exiting... (End of file)\n"
     ]
    }
   ],
   "source": [
    "#播放/home/pi/xgoMusic文件夹下的音频\n",
    "#Play audio from the/home/pi/xgomusic folder\n",
    "XGO_edu.xgoSpeaker(filename=\"myrecord.wav\")   "
   ]
  },
  {
   "cell_type": "code",
   "execution_count": 6,
   "id": "4743943d-1e8d-45e2-89ea-9891e11b1c61",
   "metadata": {},
   "outputs": [],
   "source": [
    "del XGO_edu"
   ]
  },
  {
   "cell_type": "code",
   "execution_count": null,
   "id": "b389842b-f1ee-47cb-988d-e638cf1e02f5",
   "metadata": {},
   "outputs": [],
   "source": []
  }
 ],
 "metadata": {
  "kernelspec": {
   "display_name": "Python 3 (ipykernel)",
   "language": "python",
   "name": "python3"
  },
  "language_info": {
   "codemirror_mode": {
    "name": "ipython",
    "version": 3
   },
   "file_extension": ".py",
   "mimetype": "text/x-python",
   "name": "python",
   "nbconvert_exporter": "python",
   "pygments_lexer": "ipython3",
   "version": "3.9.2"
  }
 },
 "nbformat": 4,
 "nbformat_minor": 5
}
