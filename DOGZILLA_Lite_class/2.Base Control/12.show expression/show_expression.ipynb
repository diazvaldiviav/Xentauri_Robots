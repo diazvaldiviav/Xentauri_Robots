{
 "cells": [
  {
   "cell_type": "code",
   "execution_count": 2,
   "id": "bae6a9f6-5d00-438c-b9c0-bd487ca4a1dd",
   "metadata": {},
   "outputs": [],
   "source": [
    "from xgoedu import XGOEDU \n",
    "import time\n",
    "#实例化edu\n",
    "XGO_edu = XGOEDU()"
   ]
  },
  {
   "cell_type": "code",
   "execution_count": null,
   "id": "bd05882e-b67a-4389-845c-fed5ed216fef",
   "metadata": {},
   "outputs": [],
   "source": [
    "#写法1 way1\n",
    "while True:\n",
    "    XGO_edu.lcd_picture(\"my1.png\")\n",
    "    time.sleep(.2)\n",
    "    XGO_edu.lcd_picture(\"my2.png\")\n",
    "    time.sleep(.2)\n",
    "    XGO_edu.lcd_picture(\"my3.png\")\n",
    "    time.sleep(.2)\n",
    "    XGO_edu.lcd_picture(\"my4.png\")\n",
    "    time.sleep(.2)\n",
    "    XGO_edu.lcd_picture(\"my5.png\")\n",
    "    time.sleep(.2)\n",
    "    XGO_edu.lcd_picture(\"my6.png\")\n",
    "    time.sleep(.2)\n",
    "    XGO_edu.lcd_picture(\"my7.png\")\n",
    "    time.sleep(.2)\n",
    "    XGO_edu.lcd_picture(\"my8.png\")\n",
    "    time.sleep(.2)\n",
    "    XGO_edu.lcd_picture(\"my9.png\")\n",
    "    time.sleep(.2)\n",
    "    XGO_edu.lcd_picture(\"my10.png\")\n",
    "    time.sleep(.2)\n",
    "    XGO_edu.lcd_picture(\"my11.png\")\n",
    "    time.sleep(.2)\n",
    "    XGO_edu.lcd_picture(\"my12.png\")\n",
    "    time.sleep(.2)\n",
    "    XGO_edu.lcd_picture(\"my13.png\")\n",
    "    time.sleep(.2)\n",
    "    XGO_edu.lcd_picture(\"my14.png\")\n",
    "    time.sleep(.2)\n",
    "    XGO_edu.lcd_picture(\"my15.png\")\n",
    "    time.sleep(.2)\n",
    "    XGO_edu.lcd_picture(\"my16.png\")\n",
    "    time.sleep(.2)\n",
    "    \n",
    "    \n",
    "    #写法2 way2\n",
    "    for i in range(1,9):\n",
    "        XGO_edu.lcd_picture(\"cute\"+str(i)+\".png\")\n",
    "        time.sleep(.2)\n",
    "        \n",
    "    for i in range(1,12):\n",
    "        XGO_edu.lcd_picture(\"sleep\"+str(i)+\".png\")\n",
    "        time.sleep(.2)\n",
    "        \n",
    "    for i in range(1,12):\n",
    "        XGO_edu.lcd_picture(\"query\"+str(i)+\".png\")\n",
    "        time.sleep(.2)\n",
    "        \n",
    "    for i in range(1,13):\n",
    "        XGO_edu.lcd_picture(\"na\"+str(i)+\".png\")\n",
    "        time.sleep(.2)\n",
    "        \n",
    "    for i in range(1,13):\n",
    "        XGO_edu.lcd_picture(\"gri\"+str(i)+\".png\")\n",
    "        time.sleep(.2)\n",
    "        \n",
    "    for i in range(1,12):\n",
    "        XGO_edu.lcd_picture(\"love\"+str(i)+\".png\")\n",
    "        time.sleep(.2)\n",
    "        \n",
    "    for i in range(1,11):\n",
    "        XGO_edu.lcd_picture(\"shame\"+str(i)+\".png\")\n",
    "        time.sleep(.2)"
   ]
  },
  {
   "cell_type": "code",
   "execution_count": 3,
   "id": "36a2aa9e-d874-4711-a9b4-9b1ce0d9b6cf",
   "metadata": {},
   "outputs": [],
   "source": [
    "for i in range(1,13):\n",
    "    XGO_edu.lcd_picture(\"angry_r/\"+str(i)+\".png\")\n",
    "    time.sleep(.2)"
   ]
  },
  {
   "cell_type": "code",
   "execution_count": null,
   "id": "caae8ba6-4239-4289-ab5b-8ee6f64e1cd2",
   "metadata": {},
   "outputs": [],
   "source": []
  }
 ],
 "metadata": {
  "kernelspec": {
   "display_name": "Python 3 (ipykernel)",
   "language": "python",
   "name": "python3"
  },
  "language_info": {
   "codemirror_mode": {
    "name": "ipython",
    "version": 3
   },
   "file_extension": ".py",
   "mimetype": "text/x-python",
   "name": "python",
   "nbconvert_exporter": "python",
   "pygments_lexer": "ipython3",
   "version": "3.9.2"
  }
 },
 "nbformat": 4,
 "nbformat_minor": 5
}
