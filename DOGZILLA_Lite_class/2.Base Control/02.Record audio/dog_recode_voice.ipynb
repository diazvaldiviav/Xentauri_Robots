{
 "cells": [
  {
   "cell_type": "code",
   "execution_count": 1,
   "id": "3bb8b1c5-7635-449f-beab-f70cdd84d6a1",
   "metadata": {},
   "outputs": [],
   "source": [
    "#导入xgoedu  #Import xguodu\n",
    "from xgoedu import XGOEDU \n",
    "#实例化edu  #Instantiate edu\n",
    "XGO_edu = XGOEDU()"
   ]
  },
  {
   "cell_type": "code",
   "execution_count": 2,
   "id": "403abe8d",
   "metadata": {},
   "outputs": [
    {
     "name": "stdout",
     "output_type": "stream",
     "text": [
      "sudo arecord -d 5 -f S32_LE -r 8000 -c 1 -t wav /home/pi/xgoMusic/myrecord.wav\n"
     ]
    },
    {
     "name": "stderr",
     "output_type": "stream",
     "text": [
      "Recording WAVE '/home/pi/xgoMusic/myrecord.wav' : Signed 32 bit Little Endian, Rate 8000 Hz, Mono\n"
     ]
    }
   ],
   "source": [
    "#myrecord：会保存到/home/pi/xgoMusic的文件下  5:录制音频时长\n",
    "#Myrecord: will be saved to a file in/home/pi/xgomusic 5: recording audio duration\n",
    "XGO_edu.xgoAudioRecord(filename=\"myrecord\",seconds=5)   \n"
   ]
  },
  {
   "cell_type": "code",
   "execution_count": null,
   "id": "4743943d-1e8d-45e2-89ea-9891e11b1c61",
   "metadata": {},
   "outputs": [],
   "source": [
    "del XGO_edu"
   ]
  }
 ],
 "metadata": {
  "kernelspec": {
   "display_name": "Python 3 (ipykernel)",
   "language": "python",
   "name": "python3"
  },
  "language_info": {
   "codemirror_mode": {
    "name": "ipython",
    "version": 3
   },
   "file_extension": ".py",
   "mimetype": "text/x-python",
   "name": "python",
   "nbconvert_exporter": "python",
   "pygments_lexer": "ipython3",
   "version": "3.9.2"
  }
 },
 "nbformat": 4,
 "nbformat_minor": 5
}
