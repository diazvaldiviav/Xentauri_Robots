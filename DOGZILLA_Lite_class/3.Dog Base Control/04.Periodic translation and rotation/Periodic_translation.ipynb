{
 "cells": [
  {
   "cell_type": "code",
   "execution_count": 1,
   "metadata": {},
   "outputs": [],
   "source": [
    "from xgolib import XGO\n",
    "import time\n",
    "import ipywidgets as widgets\n",
    "from IPython.display import display\n",
    "from ipywidgets import interact, widgets, Button, VBox, IntSlider\n",
    "\n",
    "dog = XGO(\"xgolite\")\n"
   ]
  },
  {
   "cell_type": "code",
   "execution_count": 2,
   "metadata": {},
   "outputs": [
    {
     "data": {
      "application/vnd.jupyter.widget-view+json": {
       "model_id": "436094bedd5d4752b3f803869893404f",
       "version_major": 2,
       "version_minor": 0
      },
      "text/plain": [
       "interactive(children=(IntSlider(value=1, description='valuex', max=8, min=1, step=0), IntSlider(value=1, descr…"
      ]
     },
     "metadata": {},
     "output_type": "display_data"
    },
    {
     "data": {
      "text/plain": [
       "<function __main__.dog_periodic_tran(valuex, valuey, valuez)>"
      ]
     },
     "execution_count": 2,
     "metadata": {},
     "output_type": "execute_result"
    }
   ],
   "source": [
    "#机身周期平移 Periodic translation of the aircraft body\n",
    "def dog_periodic_tran(valuex,valuey,valuez):\n",
    "    if valuex <1.5:\n",
    "        valuex = 0\n",
    "    if valuey <1.5:\n",
    "        valuey = 0\n",
    "    if valuez <1.5:\n",
    "        valuez = 0\n",
    "    dog.periodic_tran(['x','y','z'],[valuex,valuey,valuez])\n",
    "    \n",
    "        \n",
    "interact(dog_periodic_tran,\\\n",
    "        valuex = widgets.IntSlider(min=1,max=8,step=0.5,value=0),\\\n",
    "        valuey = widgets.IntSlider(min=1,max=8,step=0.5,value=0),\\\n",
    "        valuez = widgets.IntSlider(min=1,max=8,step=0.5,value=0))\n"
   ]
  },
  {
   "cell_type": "code",
   "execution_count": 3,
   "metadata": {},
   "outputs": [
    {
     "data": {
      "application/vnd.jupyter.widget-view+json": {
       "model_id": "48fe32d3c70e4f28b414f569d6dfb577",
       "version_major": 2,
       "version_minor": 0
      },
      "text/plain": [
       "interactive(children=(IntSlider(value=1, description='valueP', max=8, min=1, step=0), IntSlider(value=1, descr…"
      ]
     },
     "metadata": {},
     "output_type": "display_data"
    },
    {
     "data": {
      "text/plain": [
       "<function __main__.dog_periodic_rot(valueP, valueR, valueY)>"
      ]
     },
     "execution_count": 3,
     "metadata": {},
     "output_type": "execute_result"
    }
   ],
   "source": [
    "#机身周期旋转 Periodic rotation of the aircraft body\n",
    "def dog_periodic_rot(valueP,valueR,valueY):\n",
    "    if valueP <1.5:\n",
    "        valueP = 0\n",
    "    if valueR <1.5:\n",
    "        valueR = 0\n",
    "    if valueY <1.5:\n",
    "        valueY = 0\n",
    "    dog.periodic_rot(['r','p','y'],[valueP,valueR,valueY])\n",
    "    \n",
    "        \n",
    "interact(dog_periodic_rot,\\\n",
    "        valueP = widgets.IntSlider(min=1,max=8,step=0.5,value=0),\\\n",
    "        valueR = widgets.IntSlider(min=1,max=8,step=0.5,value=0),\\\n",
    "        valueY = widgets.IntSlider(min=1,max=8,step=0.5,value=0))\n"
   ]
  },
  {
   "cell_type": "code",
   "execution_count": 5,
   "metadata": {},
   "outputs": [
    {
     "data": {
      "application/vnd.jupyter.widget-view+json": {
       "model_id": "44a00bcce4184cf18f648e78a3817dcb",
       "version_major": 2,
       "version_minor": 0
      },
      "text/plain": [
       "interactive(children=(IntSlider(value=9, description='value', max=35, min=9), Output()), _dom_classes=('widget…"
      ]
     },
     "metadata": {},
     "output_type": "display_data"
    },
    {
     "data": {
      "text/plain": [
       "<function __main__.dog_mark_time(value)>"
      ]
     },
     "execution_count": 5,
     "metadata": {},
     "output_type": "execute_result"
    }
   ],
   "source": [
    "#原地踏步 marking time\n",
    "def dog_mark_time(value):\n",
    "    if value <10:\n",
    "        value = 0\n",
    "    dog.mark_time(value)\n",
    "interact(dog_mark_time,\\\n",
    "        value = widgets.IntSlider(min=9,max=35,step=1,value=0))"
   ]
  },
  {
   "cell_type": "code",
   "execution_count": 6,
   "metadata": {},
   "outputs": [],
   "source": [
    "dog.stop()\n",
    "dog.reset()"
   ]
  },
  {
   "cell_type": "code",
   "execution_count": null,
   "metadata": {},
   "outputs": [],
   "source": []
  }
 ],
 "metadata": {
  "kernelspec": {
   "display_name": "Python 3 (ipykernel)",
   "language": "python",
   "name": "python3"
  },
  "language_info": {
   "codemirror_mode": {
    "name": "ipython",
    "version": 3
   },
   "file_extension": ".py",
   "mimetype": "text/x-python",
   "name": "python",
   "nbconvert_exporter": "python",
   "pygments_lexer": "ipython3",
   "version": "3.9.2"
  }
 },
 "nbformat": 4,
 "nbformat_minor": 4
}
