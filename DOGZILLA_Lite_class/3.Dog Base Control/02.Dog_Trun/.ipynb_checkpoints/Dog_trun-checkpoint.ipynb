{
 "cells": [
  {
   "cell_type": "code",
   "execution_count": null,
   "metadata": {},
   "outputs": [],
   "source": [
    "from xgolib import XGO\n",
    "import time\n",
    "import ipywidgets as widgets\n",
    "from IPython.display import display\n",
    "from ipywidgets import interact, widgets, Button, VBox, IntSlider\n",
    "\n",
    "dog = XGO(\"xgolite\")\n"
   ]
  },
  {
   "cell_type": "code",
   "execution_count": null,
   "metadata": {},
   "outputs": [],
   "source": [
    "#设置频率 #Set frequency\n",
    "output = widgets.Output()\n",
    "\n",
    "def on_button_clicked(b):\n",
    "    with output:\n",
    "        print(\"Button clicked:\", b.description)\n",
    "    if b.description == 'slow':\n",
    "        b.icon == 'check'\n",
    "        dog.pace('slow')\n",
    "    elif b.description == 'normal':\n",
    "        dog.pace('normal')\n",
    "    elif b.description == 'high':\n",
    "        dog.pace('high')\n",
    "\n",
    "button_action_1 = widgets.Button(        \n",
    "    description='slow',     \n",
    "    button_style='', # 'success', 'info', 'warning', 'danger' or ''     \n",
    "    tooltip='Description',     \n",
    "    icon='uncheck' )\n",
    "\n",
    "button_action_2 = widgets.Button(        \n",
    "    description='normal',     \n",
    "    button_style='', # 'success', 'info', 'warning', 'danger' or ''     \n",
    "    tooltip='Description',     \n",
    "    icon='uncheck' )\n",
    "\n",
    "button_action_3 = widgets.Button(        \n",
    "    description='high',     \n",
    "    button_style='', # 'success', 'info', 'warning', 'danger' or ''     \n",
    "    tooltip='Description',     \n",
    "    icon='uncheck' )\n",
    "\n",
    "button_action_1.on_click(on_button_clicked)\n",
    "button_action_2.on_click(on_button_clicked)\n",
    "button_action_3.on_click(on_button_clicked)\n",
    "\n",
    "box_btn_1 = widgets.HBox([button_action_1, button_action_2, button_action_3])\n",
    "box_v = widgets.VBox([box_btn_1])\n",
    "box_display = widgets.VBox([box_v, output])\n",
    "display(box_display)"
   ]
  },
  {
   "cell_type": "code",
   "execution_count": null,
   "metadata": {},
   "outputs": [],
   "source": [
    "#设置旋转的速度 #Set the rotation speed\n",
    "def dog_turn_sport(value): \n",
    "    dog.turn(value)\n",
    "    \n",
    "interact(dog_turn_sport,\\\n",
    "        value = widgets.IntSlider(min=-150,max=150,step=1,value=0))\n",
    "\n"
   ]
  },
  {
   "cell_type": "code",
   "execution_count": null,
   "metadata": {},
   "outputs": [],
   "source": [
    "dog.stop()"
   ]
  }
 ],
 "metadata": {
  "kernelspec": {
   "display_name": "Python 3 (ipykernel)",
   "language": "python",
   "name": "python3"
  },
  "language_info": {
   "codemirror_mode": {
    "name": "ipython",
    "version": 3
   },
   "file_extension": ".py",
   "mimetype": "text/x-python",
   "name": "python",
   "nbconvert_exporter": "python",
   "pygments_lexer": "ipython3",
   "version": "3.9.2"
  }
 },
 "nbformat": 4,
 "nbformat_minor": 4
}
