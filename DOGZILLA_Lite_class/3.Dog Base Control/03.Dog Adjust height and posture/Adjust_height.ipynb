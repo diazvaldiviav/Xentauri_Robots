{
 "cells": [
  {
   "cell_type": "code",
   "execution_count": 1,
   "metadata": {},
   "outputs": [],
   "source": [
    "from xgolib import XGO\n",
    "import time\n",
    "import ipywidgets as widgets\n",
    "from IPython.display import display\n",
    "from ipywidgets import interact, widgets, Button, VBox, IntSlider\n",
    "\n",
    "dog = XGO(\"xgolite\")\n"
   ]
  },
  {
   "cell_type": "code",
   "execution_count": 2,
   "metadata": {},
   "outputs": [
    {
     "data": {
      "application/vnd.jupyter.widget-view+json": {
       "model_id": "201ffbccda1c4d228b28c8158459d58b",
       "version_major": 2,
       "version_minor": 0
      },
      "text/plain": [
       "interactive(children=(IntSlider(value=0, description='vr', max=20, min=-20), IntSlider(value=0, description='v…"
      ]
     },
     "metadata": {},
     "output_type": "display_data"
    },
    {
     "data": {
      "text/plain": [
       "<function __main__.dog_attitude(vr, vp, vy)>"
      ]
     },
     "execution_count": 2,
     "metadata": {},
     "output_type": "execute_result"
    }
   ],
   "source": [
    "#机身姿态调整 #Body posture adjustment\n",
    "def dog_attitude(vr,vp,vy):\n",
    "    dog.attitude(['r','p','y'],[vr,vp,vy])\n",
    "\n",
    "interact(dog_attitude,\\\n",
    "        vr = widgets.IntSlider(min=-20,max=20,step=1,value=0),\\\n",
    "        vp = widgets.IntSlider(min=-15,max=15,step=1,value=0),\\\n",
    "        vy = widgets.IntSlider(min=-11,max=11,step=1,value=0))\n"
   ]
  },
  {
   "cell_type": "code",
   "execution_count": 4,
   "metadata": {},
   "outputs": [
    {
     "data": {
      "application/vnd.jupyter.widget-view+json": {
       "model_id": "ac6cfa52d8f04451a32832bcf8cc0dbf",
       "version_major": 2,
       "version_minor": 0
      },
      "text/plain": [
       "interactive(children=(IntSlider(value=0, description='valuex', max=35, min=-35), IntSlider(value=0, descriptio…"
      ]
     },
     "metadata": {},
     "output_type": "display_data"
    },
    {
     "data": {
      "text/plain": [
       "<function __main__.dog_translation(valuex, valuey, valuez)>"
      ]
     },
     "execution_count": 4,
     "metadata": {},
     "output_type": "execute_result"
    }
   ],
   "source": [
    "#机身平移 #Body translation\n",
    "def dog_translation(valuex,valuey,valuez):\n",
    "    dog.translation(['x','y','z'],[valuex,valuey,valuez])\n",
    "\n",
    "interact(dog_translation,\\\n",
    "        valuex = widgets.IntSlider(min=-35,max=35,step=1,value=0),\\\n",
    "        valuey = widgets.IntSlider(min=-18,max=18,step=1,value=0),\\\n",
    "        valuez = widgets.IntSlider(min=75,max=115,step=1,value=90))\n"
   ]
  },
  {
   "cell_type": "code",
   "execution_count": 5,
   "metadata": {},
   "outputs": [],
   "source": [
    "dog.stop()\n",
    "dog.reset()"
   ]
  },
  {
   "cell_type": "code",
   "execution_count": null,
   "metadata": {},
   "outputs": [],
   "source": []
  }
 ],
 "metadata": {
  "kernelspec": {
   "display_name": "Python 3 (ipykernel)",
   "language": "python",
   "name": "python3"
  },
  "language_info": {
   "codemirror_mode": {
    "name": "ipython",
    "version": 3
   },
   "file_extension": ".py",
   "mimetype": "text/x-python",
   "name": "python",
   "nbconvert_exporter": "python",
   "pygments_lexer": "ipython3",
   "version": "3.9.2"
  }
 },
 "nbformat": 4,
 "nbformat_minor": 4
}
