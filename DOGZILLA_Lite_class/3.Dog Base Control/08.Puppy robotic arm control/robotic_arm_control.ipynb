{
 "cells": [
  {
   "cell_type": "code",
   "execution_count": 1,
   "metadata": {},
   "outputs": [],
   "source": [
    "from xgolib import XGO\n",
    "import time\n",
    "import ipywidgets as widgets\n",
    "from IPython.display import display\n",
    "from ipywidgets import interact, widgets, Button, VBox, IntSlider\n",
    "\n",
    "dog = XGO(\"xgolite\")\n"
   ]
  },
  {
   "cell_type": "code",
   "execution_count": 3,
   "metadata": {},
   "outputs": [
    {
     "data": {
      "application/vnd.jupyter.widget-view+json": {
       "model_id": "ac75852ce43642309c498b14bbbe287a",
       "version_major": 2,
       "version_minor": 0
      },
      "text/plain": [
       "interactive(children=(IntSlider(value=0, description='arm1', max=65, min=-65), IntSlider(value=70, description…"
      ]
     },
     "metadata": {},
     "output_type": "display_data"
    },
    {
     "data": {
      "application/vnd.jupyter.widget-view+json": {
       "model_id": "9f2d311f5ff24f75b24c0498e013c632",
       "version_major": 2,
       "version_minor": 0
      },
      "text/plain": [
       "interactive(children=(IntSlider(value=127, description='pos', max=255), Output()), _dom_classes=('widget-inter…"
      ]
     },
     "metadata": {},
     "output_type": "display_data"
    },
    {
     "data": {
      "text/plain": [
       "<function __main__.dog_arm_claw(pos)>"
      ]
     },
     "execution_count": 3,
     "metadata": {},
     "output_type": "execute_result"
    }
   ],
   "source": [
    "#单独控制机械臂舵机(角度控制)\n",
    "def Anloe_arm_servo(arm1,arm2,arm3):\n",
    "    dog.motor([51,52,53],[arm1,arm2,arm3])\n",
    "\n",
    "interact(Anloe_arm_servo,\\\n",
    "        arm1 = widgets.IntSlider(min=-65,max=65,step=1,value=0),\\\n",
    "        arm2 = widgets.IntSlider(min=-115,max=70,step=1,value=70),\\\n",
    "        arm3 = widgets.IntSlider(min=-85,max=100,step=1,value=-85))\n",
    "\n",
    "#机械臂夹爪控制\n",
    "def dog_arm_claw(pos):\n",
    "    dog.claw(pos)\n",
    "interact(dog_arm_claw,\\\n",
    "        pos = widgets.IntSlider(min=0,max=255,step=1,value=127))\n"
   ]
  },
  {
   "cell_type": "code",
   "execution_count": 4,
   "metadata": {},
   "outputs": [
    {
     "data": {
      "application/vnd.jupyter.widget-view+json": {
       "model_id": "17933237c2b64544a12ed0390189f2ab",
       "version_major": 2,
       "version_minor": 0
      },
      "text/plain": [
       "interactive(children=(IntSlider(value=-25, description='x', max=155, min=-80), IntSlider(value=40, description…"
      ]
     },
     "metadata": {},
     "output_type": "display_data"
    },
    {
     "data": {
      "text/plain": [
       "<function __main__.dog_arm(x, z)>"
      ]
     },
     "execution_count": 4,
     "metadata": {},
     "output_type": "execute_result"
    }
   ],
   "source": [
    "####机械臂控制方法--坐标位置控制\n",
    "def dog_arm(x,z):\n",
    "    dog.arm(x,z)\n",
    "\n",
    "interact(dog_arm,\\\n",
    "        x = widgets.IntSlider(min=-80,max=155,step=1,value=-25),\\\n",
    "        z = widgets.IntSlider(min=-95,max=155,step=1,value=40))"
   ]
  },
  {
   "cell_type": "code",
   "execution_count": 4,
   "metadata": {},
   "outputs": [
    {
     "data": {
      "application/vnd.jupyter.widget-view+json": {
       "model_id": "95d5c9136acb4a37bfd5b2ad51a7bb8f",
       "version_major": 2,
       "version_minor": 0
      },
      "text/plain": [
       "interactive(children=(IntSlider(value=0, description='switch', max=1), Output()), _dom_classes=('widget-intera…"
      ]
     },
     "metadata": {},
     "output_type": "display_data"
    },
    {
     "data": {
      "application/vnd.jupyter.widget-view+json": {
       "model_id": "c8ad4350e0e147b5a356f403a7fd2dd6",
       "version_major": 2,
       "version_minor": 0
      },
      "text/plain": [
       "interactive(children=(IntSlider(value=0, description='valuex', max=35, min=-35), IntSlider(value=0, descriptio…"
      ]
     },
     "metadata": {},
     "output_type": "display_data"
    },
    {
     "data": {
      "text/plain": [
       "<function __main__.dog_translation(valuex, valuey, valuez)>"
      ]
     },
     "execution_count": 4,
     "metadata": {},
     "output_type": "execute_result"
    }
   ],
   "source": [
    "#机械臂自稳 -这个要用机械臂坐标控制\n",
    "def dog_arm_mode(switch):\n",
    "    dog.arm_mode(switch)\n",
    "interact(dog_arm_mode,\\\n",
    "        switch = widgets.IntSlider(min=0,max=1,step=1,value=0))\n",
    "\n",
    "def dog_translation(valuex,valuey,valuez):\n",
    "    dog.translation(['x','y','z'],[valuex,valuey,valuez])\n",
    "\n",
    "interact(dog_translation,\\\n",
    "        valuex = widgets.IntSlider(min=-35,max=35,step=1,value=0),\\\n",
    "        valuey = widgets.IntSlider(min=-18,max=18,step=1,value=0),\\\n",
    "        valuez = widgets.IntSlider(min=75,max=115,step=1,value=90))"
   ]
  },
  {
   "cell_type": "code",
   "execution_count": 5,
   "metadata": {},
   "outputs": [],
   "source": [
    "dog.stop()\n",
    "dog.reset()"
   ]
  },
  {
   "cell_type": "code",
   "execution_count": null,
   "metadata": {},
   "outputs": [],
   "source": []
  }
 ],
 "metadata": {
  "kernelspec": {
   "display_name": "Python 3 (ipykernel)",
   "language": "python",
   "name": "python3"
  },
  "language_info": {
   "codemirror_mode": {
    "name": "ipython",
    "version": 3
   },
   "file_extension": ".py",
   "mimetype": "text/x-python",
   "name": "python",
   "nbconvert_exporter": "python",
   "pygments_lexer": "ipython3",
   "version": "3.9.2"
  }
 },
 "nbformat": 4,
 "nbformat_minor": 4
}
