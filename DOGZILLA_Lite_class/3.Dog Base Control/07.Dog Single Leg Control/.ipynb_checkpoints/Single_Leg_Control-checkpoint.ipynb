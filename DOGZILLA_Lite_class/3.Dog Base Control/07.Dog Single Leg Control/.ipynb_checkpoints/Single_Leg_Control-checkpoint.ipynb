{
 "cells": [
  {
   "cell_type": "code",
   "execution_count": null,
   "metadata": {},
   "outputs": [],
   "source": [
    "from xgolib import XGO\n",
    "import time\n",
    "import ipywidgets as widgets\n",
    "from IPython.display import display\n",
    "from ipywidgets import interact, widgets, Button, VBox, IntSlider\n",
    "\n",
    "dog = XGO(\"xgolite\")\n"
   ]
  },
  {
   "cell_type": "code",
   "execution_count": null,
   "metadata": {},
   "outputs": [],
   "source": [
    "#单腿舵机控制 正解算  Forward calculation of single leg servo control\n",
    "def leg_servo_control_left(num,x,y,z):\n",
    "    if num ==1 :\n",
    "        dog.motor([11,12,13],[x,y,z])\n",
    "    elif num == 2:\n",
    "        dog.motor([21,22,23],[x,y,z])\n",
    "    elif num == 3:\n",
    "        dog.motor([31,32,33],[x,y,z])\n",
    "    elif num == 4:\n",
    "        dog.motor([41,42,43],[x,y,z])\n",
    "interact(leg_servo_control_left,\\\n",
    "        num = widgets.IntSlider(min=0,max=4,step=1,value=0),\n",
    "        x = widgets.IntSlider(min=-70,max=50,step=1,value=9),\\\n",
    "        y = widgets.IntSlider(min=-66,max=93,step=1,value=40),\\\n",
    "        z = widgets.IntSlider(min=-31,max=31,step=1,value=0))"
   ]
  },
  {
   "cell_type": "code",
   "execution_count": null,
   "metadata": {},
   "outputs": [],
   "source": [
    "### 足端坐标控制  逆解算  Inverse solution of foot coordinate control\n",
    "def dog_leg_left1(x1,y1,z1):\n",
    "    dog.leg(1,[x1,y1,z1])\n",
    "interact(dog_leg_left1,\\\n",
    "        x1 = widgets.IntSlider(min=-35,max=35,step=1,value=10),\\\n",
    "        y1 = widgets.IntSlider(min=-18,max=18,step=1,value=0),\\\n",
    "        z1 = widgets.IntSlider(min=75,max=115,step=1,value=90))\n",
    "\n",
    "def dog_leg_left2(x2,y2,z2):\n",
    "    dog.leg(4,[x2,y2,z2])\n",
    "interact(dog_leg_left2,\\\n",
    "        x2 = widgets.IntSlider(min=-35,max=35,step=1,value=10),\\\n",
    "        y2 = widgets.IntSlider(min=-18,max=18,step=1,value=0),\\\n",
    "        z2 = widgets.IntSlider(min=75,max=115,step=1,value=90))\n",
    "\n",
    "def dog_leg_right1(x3,y3,z3):\n",
    "    dog.leg(2,[x3,y3,z3])\n",
    "interact(dog_leg_right1,\\\n",
    "        x3 = widgets.IntSlider(min=-35,max=35,step=1,value=10),\\\n",
    "        y3 = widgets.IntSlider(min=-18,max=18,step=1,value=0),\\\n",
    "        z3 = widgets.IntSlider(min=75,max=115,step=1,value=90))\n",
    "\n",
    "def dog_leg_right2(x4,y4,z4):\n",
    "    dog.leg(3,[x4,y4,z4])\n",
    "interact(dog_leg_right2,\\\n",
    "        x4 = widgets.IntSlider(min=-35,max=35,step=1,value=10),\\\n",
    "        y4 = widgets.IntSlider(min=-18,max=18,step=1,value=0),\\\n",
    "        z4 = widgets.IntSlider(min=75,max=115,step=1,value=90))"
   ]
  },
  {
   "cell_type": "code",
   "execution_count": null,
   "metadata": {},
   "outputs": [],
   "source": [
    "#单腿舵机卸载  Unloading of single leg servo motor\n",
    "def leg_servo_unload_motor(legid):\n",
    "    dog.unload_motor(legid)\n",
    "\n",
    "interact(leg_servo_unload_motor,\\\n",
    "         legid = widgets.IntSlider(min=0,max=5,step=1,value=0))"
   ]
  },
  {
   "cell_type": "code",
   "execution_count": null,
   "metadata": {},
   "outputs": [],
   "source": [
    "#单腿舵机加载  Single leg servo loading\n",
    "def leg_servo_load_motor(legid):\n",
    "    dog.load_motor(legid)\n",
    "\n",
    "interact(leg_servo_load_motor,\\\n",
    "         legid = widgets.IntSlider(min=0,max=5,step=1,value=0))"
   ]
  },
  {
   "cell_type": "code",
   "execution_count": null,
   "metadata": {},
   "outputs": [],
   "source": [
    "dog.stop()\n",
    "dog.reset()"
   ]
  }
 ],
 "metadata": {
  "kernelspec": {
   "display_name": "Python 3 (ipykernel)",
   "language": "python",
   "name": "python3"
  },
  "language_info": {
   "codemirror_mode": {
    "name": "ipython",
    "version": 3
   },
   "file_extension": ".py",
   "mimetype": "text/x-python",
   "name": "python",
   "nbconvert_exporter": "python",
   "pygments_lexer": "ipython3",
   "version": "3.9.2"
  }
 },
 "nbformat": 4,
 "nbformat_minor": 4
}
