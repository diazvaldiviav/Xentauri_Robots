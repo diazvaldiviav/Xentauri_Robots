{
 "cells": [
  {
   "cell_type": "raw",
   "metadata": {},
   "source": [
    "@Copyright (C): 2015-2024, Shenzhen Yahboom Tech  \n",
    "@Author: clhchan\n",
    "@Date: 2024-07-24 "
   ]
  },
  {
   "cell_type": "code",
   "execution_count": null,
   "metadata": {},
   "outputs": [],
   "source": [
    "import cv2\n",
    "import matplotlib.pyplot as plt  # Python 的 2D绘图库 2D plotting library for Python\n",
    " \n",
    "# 读入原图片 Read in the original image\n",
    "img = cv2.imread('yahboom.jpg')\n",
    "# 打印出图片尺寸 Print image size\n",
    "print(img.shape)\n",
    "# 将图片高和宽分别赋值给x，y Assign the image height and width to x and y respectively\n",
    "x, y = img.shape[0:2]\n",
    " \n",
    "# 显示原图 Show original image\n",
    "#cv.imshow('OriginalPicture', img)\n",
    " \n",
    "# 缩放到原来的二分之一，输出尺寸格式为（宽，高） Scale to half of the original size, output size format is (width, height)\n",
    "img_test1 = cv2.resize(img, (int(y / 2), int(x / 2)))\n",
    "# cv2.imshow('resize0', img_test1)\n",
    "# cv2.waitKey()\n",
    " \n",
    "# 最近邻插值法缩放 Nearest Neighbor Scaling\n",
    "# 缩放到原来的四分之一 Zoom to one-quarter of its original size\n",
    "img_test2 = cv2.resize(img, (0, 0), fx=0.25, fy=0.25, interpolation=cv2.INTER_NEAREST)\n",
    "# cv.imshow('resize1', img_test2)\n",
    "# cv.waitKey()\n",
    "# cv.destroyAllWindows()\n",
    "img = cv2.cvtColor(img, cv2.COLOR_BGR2RGB)\n",
    "dst1 = cv2.cvtColor(img_test1, cv2.COLOR_BGR2RGB)\n",
    "dst2 = cv2.cvtColor(img_test2, cv2.COLOR_BGR2RGB)\n",
    "\n",
    "# 显示原始图像 Display original image\n",
    "plt.imshow(img)\n",
    "plt.show()\n"
   ]
  },
  {
   "cell_type": "code",
   "execution_count": null,
   "metadata": {},
   "outputs": [],
   "source": [
    "# 显示缩放1/2 Display Zoom 1/2\n",
    "plt.imshow(dst1)\n",
    "plt.show()"
   ]
  },
  {
   "cell_type": "code",
   "execution_count": null,
   "metadata": {},
   "outputs": [],
   "source": [
    "# 显示缩放1/4 邻插值法缩放 Display zoom 1/4 neighbor interpolation zoom\n",
    "plt.imshow(dst2)\n",
    "plt.show()"
   ]
  },
  {
   "cell_type": "markdown",
   "metadata": {},
   "source": [
    "### 以下是matplotlib的一个小例子 参考教程：\n",
    "### https://www.runoob.com/numpy/numpy-matplotlib.html \n",
    "### The following is a small example of matplotlib Reference tutorial: https://www.runoob.com/numpy/numpy-matplotlib.html"
   ]
  },
  {
   "cell_type": "code",
   "execution_count": null,
   "metadata": {},
   "outputs": [],
   "source": [
    "import numpy as np \n",
    "from matplotlib import pyplot as plt \n",
    "\n",
    "x = np.arange(1,11)\n",
    "y =  2 * x +  5 \n",
    "plt.title(\"Matplotlib demo\") \n",
    "plt.xlabel(\"x axis caption\") \n",
    "plt.ylabel(\"y axis caption\") \n",
    "plt.plot(x,y) \n",
    "plt.show()\n"
   ]
  },
  {
   "cell_type": "code",
   "execution_count": null,
   "metadata": {},
   "outputs": [],
   "source": []
  }
 ],
 "metadata": {
  "kernelspec": {
   "display_name": "Python 3 (ipykernel)",
   "language": "python",
   "name": "python3"
  },
  "language_info": {
   "codemirror_mode": {
    "name": "ipython",
    "version": 3
   },
   "file_extension": ".py",
   "mimetype": "text/x-python",
   "name": "python",
   "nbconvert_exporter": "python",
   "pygments_lexer": "ipython3",
   "version": "3.9.2"
  }
 },
 "nbformat": 4,
 "nbformat_minor": 4
}
